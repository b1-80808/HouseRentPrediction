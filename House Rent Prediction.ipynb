{
 "cells": [
  {
   "cell_type": "markdown",
   "id": "b2e55903",
   "metadata": {},
   "source": [
    "# House Rent Prediction"
   ]
  },
  {
   "cell_type": "markdown",
   "id": "d78483c9",
   "metadata": {},
   "source": [
    "## Objective :"
   ]
  },
  {
   "cell_type": "markdown",
   "id": "64f02484",
   "metadata": {},
   "source": [
    "### import required packages"
   ]
  },
  {
   "cell_type": "code",
   "execution_count": 121,
   "id": "395bdda6",
   "metadata": {},
   "outputs": [],
   "source": [
    "import numpy as np\n",
    "import pandas as pd\n",
    "import matplotlib.pyplot as plt\n",
    "import seaborn as sns"
   ]
  },
  {
   "cell_type": "markdown",
   "id": "697c870c",
   "metadata": {},
   "source": [
    "### Read the dataset"
   ]
  },
  {
   "cell_type": "code",
   "execution_count": 122,
   "id": "316f0406",
   "metadata": {},
   "outputs": [],
   "source": [
    "dataset = pd.read_csv(\"House_rent_unclean.csv\")"
   ]
  },
  {
   "cell_type": "markdown",
   "id": "b160a376",
   "metadata": {},
   "source": [
    "### Data Pre-Processing"
   ]
  },
  {
   "cell_type": "code",
   "execution_count": 123,
   "id": "e375d6c4",
   "metadata": {},
   "outputs": [],
   "source": [
    "# Delete the unnamed column which is unnecessary is there in database\n",
    "dataset.drop(\"Unnamed: 0\",inplace=True,axis=1)"
   ]
  },
  {
   "cell_type": "markdown",
   "id": "a01979ea",
   "metadata": {},
   "source": [
    "### Exploratory Data Analysis"
   ]
  },
  {
   "cell_type": "code",
   "execution_count": 124,
   "id": "31954cbf",
   "metadata": {},
   "outputs": [
    {
     "data": {
      "text/html": [
       "<div>\n",
       "<style scoped>\n",
       "    .dataframe tbody tr th:only-of-type {\n",
       "        vertical-align: middle;\n",
       "    }\n",
       "\n",
       "    .dataframe tbody tr th {\n",
       "        vertical-align: top;\n",
       "    }\n",
       "\n",
       "    .dataframe thead th {\n",
       "        text-align: right;\n",
       "    }\n",
       "</style>\n",
       "<table border=\"1\" class=\"dataframe\">\n",
       "  <thead>\n",
       "    <tr style=\"text-align: right;\">\n",
       "      <th></th>\n",
       "      <th>seller_type</th>\n",
       "      <th>bedroom</th>\n",
       "      <th>layout_type</th>\n",
       "      <th>property_type</th>\n",
       "      <th>locality</th>\n",
       "      <th>price</th>\n",
       "      <th>area</th>\n",
       "      <th>furnish_type</th>\n",
       "      <th>bathroom</th>\n",
       "      <th>city</th>\n",
       "    </tr>\n",
       "  </thead>\n",
       "  <tbody>\n",
       "    <tr>\n",
       "      <th>0</th>\n",
       "      <td>OWNER</td>\n",
       "      <td>2.0</td>\n",
       "      <td>BHK</td>\n",
       "      <td>Apartment</td>\n",
       "      <td>Bodakdev</td>\n",
       "      <td>20000.0</td>\n",
       "      <td>1450.0</td>\n",
       "      <td>Furnished</td>\n",
       "      <td>2.0</td>\n",
       "      <td>Ahmedabad</td>\n",
       "    </tr>\n",
       "    <tr>\n",
       "      <th>1</th>\n",
       "      <td>OWNER</td>\n",
       "      <td>1.0</td>\n",
       "      <td>RK</td>\n",
       "      <td>Studio Apartment</td>\n",
       "      <td>CG Road</td>\n",
       "      <td>7350.0</td>\n",
       "      <td>210.0</td>\n",
       "      <td>Semi-Furnished</td>\n",
       "      <td>1.0</td>\n",
       "      <td>Ahmedabad</td>\n",
       "    </tr>\n",
       "    <tr>\n",
       "      <th>2</th>\n",
       "      <td>OWNER</td>\n",
       "      <td>3.0</td>\n",
       "      <td>BHK</td>\n",
       "      <td>Apartment</td>\n",
       "      <td>Jodhpur</td>\n",
       "      <td>22000.0</td>\n",
       "      <td>1900.0</td>\n",
       "      <td>Unfurnished</td>\n",
       "      <td>3.0</td>\n",
       "      <td>Ahmedabad</td>\n",
       "    </tr>\n",
       "    <tr>\n",
       "      <th>3</th>\n",
       "      <td>OWNER</td>\n",
       "      <td>2.0</td>\n",
       "      <td>BHK</td>\n",
       "      <td>Independent House</td>\n",
       "      <td>Sanand</td>\n",
       "      <td>13000.0</td>\n",
       "      <td>1285.0</td>\n",
       "      <td>Semi-Furnished</td>\n",
       "      <td>2.0</td>\n",
       "      <td>Ahmedabad</td>\n",
       "    </tr>\n",
       "    <tr>\n",
       "      <th>4</th>\n",
       "      <td>OWNER</td>\n",
       "      <td>2.0</td>\n",
       "      <td>BHK</td>\n",
       "      <td>Independent House</td>\n",
       "      <td>Navrangpura</td>\n",
       "      <td>18000.0</td>\n",
       "      <td>1600.0</td>\n",
       "      <td>Furnished</td>\n",
       "      <td>2.0</td>\n",
       "      <td>Ahmedabad</td>\n",
       "    </tr>\n",
       "  </tbody>\n",
       "</table>\n",
       "</div>"
      ],
      "text/plain": [
       "  seller_type  bedroom layout_type      property_type     locality    price  \\\n",
       "0       OWNER      2.0         BHK          Apartment     Bodakdev  20000.0   \n",
       "1       OWNER      1.0          RK   Studio Apartment      CG Road   7350.0   \n",
       "2       OWNER      3.0         BHK          Apartment      Jodhpur  22000.0   \n",
       "3       OWNER      2.0         BHK  Independent House       Sanand  13000.0   \n",
       "4       OWNER      2.0         BHK  Independent House  Navrangpura  18000.0   \n",
       "\n",
       "     area    furnish_type  bathroom       city  \n",
       "0  1450.0       Furnished       2.0  Ahmedabad  \n",
       "1   210.0  Semi-Furnished       1.0  Ahmedabad  \n",
       "2  1900.0     Unfurnished       3.0  Ahmedabad  \n",
       "3  1285.0  Semi-Furnished       2.0  Ahmedabad  \n",
       "4  1600.0       Furnished       2.0  Ahmedabad  "
      ]
     },
     "execution_count": 124,
     "metadata": {},
     "output_type": "execute_result"
    }
   ],
   "source": [
    "# checking the data in dataset\n",
    "dataset.head()"
   ]
  },
  {
   "cell_type": "code",
   "execution_count": 125,
   "id": "e022468f",
   "metadata": {},
   "outputs": [
    {
     "data": {
      "text/plain": [
       "seller_type      192688\n",
       "bedroom          192809\n",
       "layout_type      192997\n",
       "property_type    192500\n",
       "locality         193011\n",
       "price            192264\n",
       "area             192012\n",
       "furnish_type     192933\n",
       "bathroom         192827\n",
       "city             192665\n",
       "dtype: int64"
      ]
     },
     "execution_count": 125,
     "metadata": {},
     "output_type": "execute_result"
    }
   ],
   "source": [
    "# Checking the count of the types in every dimension\n",
    "dataset.count()"
   ]
  },
  {
   "cell_type": "markdown",
   "id": "8e384686",
   "metadata": {},
   "source": [
    "#### Cheking for unique values"
   ]
  },
  {
   "cell_type": "code",
   "execution_count": 126,
   "id": "42e1895a",
   "metadata": {},
   "outputs": [
    {
     "data": {
      "text/plain": [
       "array(['OWNER', 'AGENT', nan, 'BUILDER'], dtype=object)"
      ]
     },
     "execution_count": 126,
     "metadata": {},
     "output_type": "execute_result"
    }
   ],
   "source": [
    "# cheking seller type categories\n",
    "pd.unique(dataset[\"seller_type\"])"
   ]
  },
  {
   "cell_type": "code",
   "execution_count": 127,
   "id": "a8a1f983",
   "metadata": {},
   "outputs": [
    {
     "data": {
      "text/plain": [
       "array([ 2.,  1.,  3.,  4.,  5., nan,  6., 10.,  7.,  8., 15.,  9., 12.,\n",
       "       14., 11.])"
      ]
     },
     "execution_count": 127,
     "metadata": {},
     "output_type": "execute_result"
    }
   ],
   "source": [
    "# Checking for bedroom categories\n",
    "pd.unique(dataset[\"bedroom\"])"
   ]
  },
  {
   "cell_type": "code",
   "execution_count": 128,
   "id": "cc70366d",
   "metadata": {},
   "outputs": [
    {
     "data": {
      "text/plain": [
       "array(['BHK', 'RK', nan], dtype=object)"
      ]
     },
     "execution_count": 128,
     "metadata": {},
     "output_type": "execute_result"
    }
   ],
   "source": [
    "# checking for layout_type\n",
    "pd.unique(dataset[\"layout_type\"])"
   ]
  },
  {
   "cell_type": "code",
   "execution_count": 129,
   "id": "6e113546",
   "metadata": {},
   "outputs": [
    {
     "data": {
      "text/plain": [
       "array(['Apartment', 'Studio Apartment', 'Independent House',\n",
       "       'Independent Floor', 'Villa', nan, 'Penthouse'], dtype=object)"
      ]
     },
     "execution_count": 129,
     "metadata": {},
     "output_type": "execute_result"
    }
   ],
   "source": [
    "# cheking for property type\n",
    "pd.unique(dataset[\"property_type\"])"
   ]
  },
  {
   "cell_type": "code",
   "execution_count": 130,
   "id": "1df0c93c",
   "metadata": {},
   "outputs": [
    {
     "data": {
      "text/plain": [
       "array(['Bodakdev', 'CG Road', 'Jodhpur', ..., 'Renuka Nagar',\n",
       "       'Gananjay Society', 'Aundh Gaon'], dtype=object)"
      ]
     },
     "execution_count": 130,
     "metadata": {},
     "output_type": "execute_result"
    }
   ],
   "source": [
    "# checking for locality type\n",
    "pd.unique(dataset[\"locality\"])"
   ]
  },
  {
   "cell_type": "code",
   "execution_count": 131,
   "id": "433ff4a4",
   "metadata": {},
   "outputs": [
    {
     "data": {
      "text/plain": [
       "array(['Furnished', 'Semi-Furnished', 'Unfurnished', nan], dtype=object)"
      ]
     },
     "execution_count": 131,
     "metadata": {},
     "output_type": "execute_result"
    }
   ],
   "source": [
    "# checking for the furnish type\n",
    "pd.unique(dataset[\"furnish_type\"])"
   ]
  },
  {
   "cell_type": "code",
   "execution_count": 132,
   "id": "07df7bb6",
   "metadata": {},
   "outputs": [
    {
     "data": {
      "text/plain": [
       "array([ 2.,  1.,  3.,  4.,  5., nan,  6., 12.,  7.,  8., 15.,  9., 18.,\n",
       "       19., 10., 16., 14.])"
      ]
     },
     "execution_count": 132,
     "metadata": {},
     "output_type": "execute_result"
    }
   ],
   "source": [
    "# checking for the bathroom\n",
    "pd.unique(dataset[\"bathroom\"])"
   ]
  },
  {
   "cell_type": "code",
   "execution_count": 133,
   "id": "1f4f76db",
   "metadata": {},
   "outputs": [
    {
     "data": {
      "text/plain": [
       "array(['Ahmedabad', nan, 'Bangalore', 'Chennai', 'Delhi', 'Hyderabad',\n",
       "       'Kolkata', 'Mumbai', 'Pune'], dtype=object)"
      ]
     },
     "execution_count": 133,
     "metadata": {},
     "output_type": "execute_result"
    }
   ],
   "source": [
    "# checking for the city\n",
    "pd.unique(dataset[\"city\"])"
   ]
  },
  {
   "cell_type": "markdown",
   "id": "8983ff50",
   "metadata": {},
   "source": [
    "#### Checking for Null Values"
   ]
  },
  {
   "cell_type": "code",
   "execution_count": 134,
   "id": "e6af5bfc",
   "metadata": {},
   "outputs": [
    {
     "data": {
      "text/plain": [
       "seller_type      323\n",
       "bedroom          202\n",
       "layout_type       14\n",
       "property_type    511\n",
       "locality           0\n",
       "price            747\n",
       "area             999\n",
       "furnish_type      78\n",
       "bathroom         184\n",
       "city             346\n",
       "dtype: int64"
      ]
     },
     "execution_count": 134,
     "metadata": {},
     "output_type": "execute_result"
    }
   ],
   "source": [
    "dataset.isna().sum()"
   ]
  },
  {
   "cell_type": "markdown",
   "id": "0ccb07a1",
   "metadata": {},
   "source": [
    "#### Handling NaN Values"
   ]
  },
  {
   "cell_type": "code",
   "execution_count": 135,
   "id": "79148cf9",
   "metadata": {},
   "outputs": [
    {
     "data": {
      "text/html": [
       "<div>\n",
       "<style scoped>\n",
       "    .dataframe tbody tr th:only-of-type {\n",
       "        vertical-align: middle;\n",
       "    }\n",
       "\n",
       "    .dataframe tbody tr th {\n",
       "        vertical-align: top;\n",
       "    }\n",
       "\n",
       "    .dataframe thead th {\n",
       "        text-align: right;\n",
       "    }\n",
       "</style>\n",
       "<table border=\"1\" class=\"dataframe\">\n",
       "  <thead>\n",
       "    <tr style=\"text-align: right;\">\n",
       "      <th></th>\n",
       "      <th>seller_type</th>\n",
       "      <th>bedroom</th>\n",
       "      <th>layout_type</th>\n",
       "      <th>property_type</th>\n",
       "      <th>locality</th>\n",
       "      <th>price</th>\n",
       "      <th>area</th>\n",
       "      <th>furnish_type</th>\n",
       "      <th>bathroom</th>\n",
       "      <th>city</th>\n",
       "    </tr>\n",
       "  </thead>\n",
       "  <tbody>\n",
       "    <tr>\n",
       "      <th>0</th>\n",
       "      <td>AGENT</td>\n",
       "      <td>2.0</td>\n",
       "      <td>BHK</td>\n",
       "      <td>Apartment</td>\n",
       "      <td>Thane West</td>\n",
       "      <td>15000.0</td>\n",
       "      <td>1200.0</td>\n",
       "      <td>Semi-Furnished</td>\n",
       "      <td>2.0</td>\n",
       "      <td>Mumbai</td>\n",
       "    </tr>\n",
       "  </tbody>\n",
       "</table>\n",
       "</div>"
      ],
      "text/plain": [
       "  seller_type  bedroom layout_type property_type    locality    price    area  \\\n",
       "0       AGENT      2.0         BHK     Apartment  Thane West  15000.0  1200.0   \n",
       "\n",
       "     furnish_type  bathroom    city  \n",
       "0  Semi-Furnished       2.0  Mumbai  "
      ]
     },
     "execution_count": 135,
     "metadata": {},
     "output_type": "execute_result"
    }
   ],
   "source": [
    "# Calculating with mode values\n",
    "dataset.mode()"
   ]
  },
  {
   "cell_type": "code",
   "execution_count": 136,
   "id": "5b75f88c",
   "metadata": {},
   "outputs": [
    {
     "data": {
      "text/plain": [
       "seller_type      0\n",
       "bedroom          0\n",
       "layout_type      0\n",
       "property_type    0\n",
       "locality         0\n",
       "price            0\n",
       "area             0\n",
       "furnish_type     0\n",
       "bathroom         0\n",
       "city             0\n",
       "dtype: int64"
      ]
     },
     "execution_count": 136,
     "metadata": {},
     "output_type": "execute_result"
    }
   ],
   "source": [
    "# Replace all the values with mode values of every dimension\n",
    "values = {\"seller_type\": \"AGENT\", \"bedroom\": 2.0, \"layout_type\": \"BHK\", \"property_type\":\"Apartment\",\"locality\":\"Thane West\",\"price\":1200.0,\"area\":1200.0,\"furnish_type\":\"Semi-Furnished\",\"bathroom\":2.0,\"city\":\"Mumbai\"}\n",
    "dataset.fillna(inplace=True,value=values)\n",
    "dataset.isna().sum()"
   ]
  },
  {
   "cell_type": "markdown",
   "id": "a4ca64b6-d2d5-4aa9-9c8e-64d48f1cf7eb",
   "metadata": {},
   "source": [
    "### Data Set Saving"
   ]
  },
  {
   "cell_type": "code",
   "execution_count": 137,
   "id": "cc471ad5-a342-4237-a57a-dd1c802f021f",
   "metadata": {},
   "outputs": [],
   "source": [
    "dataset.to_csv(\"No null Values\")"
   ]
  },
  {
   "cell_type": "markdown",
   "id": "2a3fcfac-0745-4a83-bec7-aaf3baeaa5a0",
   "metadata": {},
   "source": [
    "#### Data Balance Checking"
   ]
  },
  {
   "cell_type": "code",
   "execution_count": 138,
   "id": "45b8b725-029a-4dea-946f-6fa52bb94c28",
   "metadata": {},
   "outputs": [
    {
     "data": {
      "text/plain": [
       "seller_type\n",
       "AGENT      153014\n",
       "OWNER       38651\n",
       "BUILDER      1346\n",
       "Name: count, dtype: int64"
      ]
     },
     "execution_count": 138,
     "metadata": {},
     "output_type": "execute_result"
    }
   ],
   "source": [
    "# data balance check for seller type\n",
    "dataset[\"seller_type\"].value_counts()"
   ]
  },
  {
   "cell_type": "code",
   "execution_count": 139,
   "id": "b0ffa1d3-c38e-430b-986a-bd85458b7f49",
   "metadata": {},
   "outputs": [
    {
     "data": {
      "text/plain": [
       "bedroom\n",
       "2.0     77221\n",
       "1.0     58166\n",
       "3.0     44293\n",
       "4.0     11562\n",
       "5.0      1389\n",
       "6.0       147\n",
       "10.0       76\n",
       "8.0        50\n",
       "7.0        48\n",
       "15.0       23\n",
       "9.0        23\n",
       "12.0        6\n",
       "14.0        4\n",
       "11.0        3\n",
       "Name: count, dtype: int64"
      ]
     },
     "execution_count": 139,
     "metadata": {},
     "output_type": "execute_result"
    }
   ],
   "source": [
    "# data balance check for bedroom\n",
    "dataset[\"bedroom\"].value_counts()"
   ]
  },
  {
   "cell_type": "code",
   "execution_count": 140,
   "id": "ca7b4b84-05b2-4aea-88f7-f7499fe6286b",
   "metadata": {},
   "outputs": [
    {
     "data": {
      "text/plain": [
       "layout_type\n",
       "BHK    183749\n",
       "RK       9262\n",
       "Name: count, dtype: int64"
      ]
     },
     "execution_count": 140,
     "metadata": {},
     "output_type": "execute_result"
    }
   ],
   "source": [
    "# data balance check for layout type\n",
    "dataset[\"layout_type\"].value_counts()"
   ]
  },
  {
   "cell_type": "code",
   "execution_count": 141,
   "id": "228b36aa-6ffd-4770-91e8-9c85dfc27328",
   "metadata": {},
   "outputs": [
    {
     "data": {
      "text/plain": [
       "property_type\n",
       "Apartment            140481\n",
       "Independent Floor     27221\n",
       "Independent House     12805\n",
       "Studio Apartment       9237\n",
       "Villa                  3111\n",
       "Penthouse               156\n",
       "Name: count, dtype: int64"
      ]
     },
     "execution_count": 141,
     "metadata": {},
     "output_type": "execute_result"
    }
   ],
   "source": [
    "# data balace check for property type\n",
    "dataset[\"property_type\"].value_counts()"
   ]
  },
  {
   "cell_type": "code",
   "execution_count": 142,
   "id": "606b5c2d-5365-4b38-b0c0-4242fffa86f1",
   "metadata": {},
   "outputs": [
    {
     "data": {
      "text/plain": [
       "locality\n",
       "Thane West                 4478\n",
       "Chembur                    3549\n",
       "Andheri East               3415\n",
       "Bopal                      2933\n",
       "Kharghar                   2614\n",
       "                           ... \n",
       "Kuthambakkam                  1\n",
       "Agaramthen                    1\n",
       "Daighar Gaon                  1\n",
       "Mettukuppam Kanchipuram       1\n",
       "Aundh Gaon                    1\n",
       "Name: count, Length: 4146, dtype: int64"
      ]
     },
     "execution_count": 142,
     "metadata": {},
     "output_type": "execute_result"
    }
   ],
   "source": [
    "# data balance check for locality\n",
    "dataset[\"locality\"].value_counts()"
   ]
  },
  {
   "cell_type": "code",
   "execution_count": 143,
   "id": "c90db101-0904-4486-bca8-f7b64dca37c6",
   "metadata": {},
   "outputs": [
    {
     "data": {
      "text/plain": [
       "area\n",
       "1200.0    9409\n",
       "600.0     7378\n",
       "1000.0    7231\n",
       "650.0     5773\n",
       "900.0     5442\n",
       "          ... \n",
       "9004.0       1\n",
       "6825.0       1\n",
       "2523.0       1\n",
       "2312.0       1\n",
       "258.0        1\n",
       "Name: count, Length: 2761, dtype: int64"
      ]
     },
     "execution_count": 143,
     "metadata": {},
     "output_type": "execute_result"
    }
   ],
   "source": [
    "# data balance check for area\n",
    "dataset[\"area\"].value_counts()"
   ]
  },
  {
   "cell_type": "code",
   "execution_count": 144,
   "id": "1dc8b5ed-d17f-4549-956e-2f5e2a94ac7a",
   "metadata": {},
   "outputs": [
    {
     "data": {
      "text/plain": [
       "furnish_type\n",
       "Semi-Furnished    95769\n",
       "Unfurnished       58668\n",
       "Furnished         38574\n",
       "Name: count, dtype: int64"
      ]
     },
     "execution_count": 144,
     "metadata": {},
     "output_type": "execute_result"
    }
   ],
   "source": [
    "# data balance check for furnish type\n",
    "dataset[\"furnish_type\"].value_counts()"
   ]
  },
  {
   "cell_type": "code",
   "execution_count": 145,
   "id": "b1991322-a876-4b6b-9f5b-fc13fc52a0dd",
   "metadata": {},
   "outputs": [
    {
     "data": {
      "text/plain": [
       "bathroom\n",
       "2.0     90155\n",
       "1.0     54218\n",
       "3.0     35418\n",
       "4.0     10664\n",
       "5.0      1926\n",
       "6.0       381\n",
       "7.0        80\n",
       "9.0        55\n",
       "8.0        52\n",
       "10.0       34\n",
       "15.0        8\n",
       "16.0        6\n",
       "14.0        6\n",
       "12.0        5\n",
       "19.0        2\n",
       "18.0        1\n",
       "Name: count, dtype: int64"
      ]
     },
     "execution_count": 145,
     "metadata": {},
     "output_type": "execute_result"
    }
   ],
   "source": [
    "# data balance check for bathroom\n",
    "dataset[\"bathroom\"].value_counts()"
   ]
  },
  {
   "cell_type": "code",
   "execution_count": 146,
   "id": "71659125-4ecb-474d-878c-4d7fb99c7512",
   "metadata": {},
   "outputs": [
    {
     "data": {
      "text/plain": [
       "city\n",
       "Mumbai       67654\n",
       "Delhi        32542\n",
       "Bangalore    23028\n",
       "Pune         22558\n",
       "Ahmedabad    18413\n",
       "Hyderabad    10527\n",
       "Kolkata       9645\n",
       "Chennai       8644\n",
       "Name: count, dtype: int64"
      ]
     },
     "execution_count": 146,
     "metadata": {},
     "output_type": "execute_result"
    }
   ],
   "source": [
    "# data balancing check for city\n",
    "dataset[\"city\"].value_counts()"
   ]
  },
  {
   "cell_type": "markdown",
   "id": "d4f6dc3e",
   "metadata": {},
   "source": [
    "#### Data Types and Dimension Checking"
   ]
  },
  {
   "cell_type": "code",
   "execution_count": 147,
   "id": "81187f81",
   "metadata": {},
   "outputs": [
    {
     "name": "stdout",
     "output_type": "stream",
     "text": [
      "<class 'pandas.core.frame.DataFrame'>\n",
      "RangeIndex: 193011 entries, 0 to 193010\n",
      "Data columns (total 10 columns):\n",
      " #   Column         Non-Null Count   Dtype  \n",
      "---  ------         --------------   -----  \n",
      " 0   seller_type    193011 non-null  object \n",
      " 1   bedroom        193011 non-null  float64\n",
      " 2   layout_type    193011 non-null  object \n",
      " 3   property_type  193011 non-null  object \n",
      " 4   locality       193011 non-null  object \n",
      " 5   price          193011 non-null  float64\n",
      " 6   area           193011 non-null  float64\n",
      " 7   furnish_type   193011 non-null  object \n",
      " 8   bathroom       193011 non-null  float64\n",
      " 9   city           193011 non-null  object \n",
      "dtypes: float64(4), object(6)\n",
      "memory usage: 14.7+ MB\n"
     ]
    }
   ],
   "source": [
    "dataset.info()"
   ]
  },
  {
   "cell_type": "markdown",
   "id": "5b20ffbb-b891-4b90-bb8c-fa736f7688e8",
   "metadata": {},
   "source": [
    "## Encoding"
   ]
  },
  {
   "cell_type": "code",
   "execution_count": 148,
   "id": "7164b014-43ae-42e1-a7a8-651323a55123",
   "metadata": {},
   "outputs": [
    {
     "name": "stdout",
     "output_type": "stream",
     "text": [
      "{}\n",
      "['AGENT' 'BUILDER' 'OWNER']\n",
      "[ 1.  2.  3.  4.  5.  6.  7.  8.  9. 10. 11. 12. 14. 15.]\n",
      "['BHK' 'RK']\n",
      "['Apartment' 'Independent Floor' 'Independent House' 'Penthouse'\n",
      " 'Studio Apartment' 'Villa']\n",
      "['1 Sector Number 3 Road' '10 Sector Number 3 Road'\n",
      " '10 Sector Number 6 Road' ... 'wakad' 'worli sea Fase' 'yogi nagar']\n",
      "['Furnished' 'Semi-Furnished' 'Unfurnished']\n",
      "[ 1.  2.  3.  4.  5.  6.  7.  8.  9. 10. 12. 14. 15. 16. 18. 19.]\n",
      "['Ahmedabad' 'Bangalore' 'Chennai' 'Delhi' 'Hyderabad' 'Kolkata' 'Mumbai'\n",
      " 'Pune']\n"
     ]
    }
   ],
   "source": [
    "# Lable Encoding for all categorical columns\n",
    "# importing LabelEncoder\n",
    "from sklearn.preprocessing import LabelEncoder\n",
    "\n",
    "#making encoder object\n",
    "encoder = LabelEncoder()\n",
    "\n",
    "#Start Encoding\n",
    "dataset[\"seller_type\"] = encoder.fit_transform(dataset[\"seller_type\"])\n",
    "# print(encoder.get_params())\n",
    "print(encoder.classes_)\n",
    "dataset[\"bedroom\"]     = encoder.fit_transform(dataset[\"bedroom\"])\n",
    "print(encoder.classes_)\n",
    "dataset[\"layout_type\"] = encoder.fit_transform(dataset[\"layout_type\"])\n",
    "print(encoder.classes_)\n",
    "dataset[\"property_type\"] = encoder.fit_transform(dataset[\"property_type\"])\n",
    "print(encoder.classes_)\n",
    "dataset[\"locality\"] = encoder.fit_transform(dataset[\"locality\"])\n",
    "print(encoder.classes_)\n",
    "dataset[\"furnish_type\"] = encoder.fit_transform(dataset[\"furnish_type\"])\n",
    "print(encoder.classes_)\n",
    "dataset[\"bathroom\"] = encoder.fit_transform(dataset[\"bathroom\"])\n",
    "print(encoder.classes_)\n",
    "dataset[\"city\"] = encoder.fit_transform(dataset[\"city\"])\n",
    "print(encoder.classes_)\n"
   ]
  },
  {
   "cell_type": "code",
   "execution_count": 31,
   "id": "7a50a0fc-6812-4d28-afe8-316dde241be7",
   "metadata": {},
   "outputs": [
    {
     "data": {
      "text/plain": [
       "0         2\n",
       "1         2\n",
       "2         2\n",
       "3         2\n",
       "4         2\n",
       "         ..\n",
       "193006    2\n",
       "193007    2\n",
       "193008    2\n",
       "193009    0\n",
       "193010    0\n",
       "Name: seller_type, Length: 193011, dtype: int64"
      ]
     },
     "execution_count": 31,
     "metadata": {},
     "output_type": "execute_result"
    }
   ],
   "source": [
    "dataset[\"seller_type\"]"
   ]
  },
  {
   "cell_type": "code",
   "execution_count": 31,
   "id": "5ac85566-1a33-4acf-976b-77e21341b3d1",
   "metadata": {},
   "outputs": [
    {
     "name": "stdout",
     "output_type": "stream",
     "text": [
      "<class 'pandas.core.frame.DataFrame'>\n",
      "RangeIndex: 193011 entries, 0 to 193010\n",
      "Data columns (total 10 columns):\n",
      " #   Column         Non-Null Count   Dtype  \n",
      "---  ------         --------------   -----  \n",
      " 0   seller_type    193011 non-null  int64  \n",
      " 1   bedroom        193011 non-null  int64  \n",
      " 2   layout_type    193011 non-null  int64  \n",
      " 3   property_type  193011 non-null  int64  \n",
      " 4   locality       193011 non-null  int64  \n",
      " 5   price          193011 non-null  float64\n",
      " 6   area           193011 non-null  float64\n",
      " 7   furnish_type   193011 non-null  int64  \n",
      " 8   bathroom       193011 non-null  int64  \n",
      " 9   city           193011 non-null  int64  \n",
      "dtypes: float64(2), int64(8)\n",
      "memory usage: 14.7 MB\n"
     ]
    }
   ],
   "source": [
    "# all the values in int & float\n",
    "dataset.info()"
   ]
  },
  {
   "cell_type": "markdown",
   "id": "33002547-1640-4a1b-b8b2-5f2f3eb3966f",
   "metadata": {},
   "source": [
    "## Save Data "
   ]
  },
  {
   "cell_type": "code",
   "execution_count": 32,
   "id": "5283177e-21b5-48c2-9e2b-bc73c31977c8",
   "metadata": {},
   "outputs": [],
   "source": [
    "dataset.to_csv(\"Hello\")"
   ]
  },
  {
   "cell_type": "markdown",
   "id": "6c727db9-2976-4f33-932c-941f828a9cde",
   "metadata": {},
   "source": [
    "### Data Processing"
   ]
  },
  {
   "cell_type": "code",
   "execution_count": 33,
   "id": "e4396279-43b4-402c-8532-6753498e8e82",
   "metadata": {},
   "outputs": [],
   "source": [
    "# price is dependant columns\n",
    "\n",
    "X = dataset.drop(\"price\",axis = 1)\n",
    "Y = dataset[\"price\"]\n"
   ]
  },
  {
   "cell_type": "code",
   "execution_count": 34,
   "id": "93dedd24-a499-48c8-a3b3-8d4a868d8fe0",
   "metadata": {},
   "outputs": [],
   "source": [
    "# Split the data into Train and Test\n",
    "from sklearn.model_selection import train_test_split\n",
    "X_train,X_test,Y_train,Y_test = train_test_split(X,Y,train_size=0.7,random_state=12345)"
   ]
  },
  {
   "cell_type": "markdown",
   "id": "fa9b79a0-ddbb-4b8f-900a-98769e630008",
   "metadata": {},
   "source": [
    "## Model Building"
   ]
  },
  {
   "cell_type": "code",
   "execution_count": 35,
   "id": "5137a7b6-d602-4767-80f9-b5f4cc714004",
   "metadata": {},
   "outputs": [],
   "source": [
    "def linear_regression_model():\n",
    "    from sklearn.linear_model import LinearRegression\n",
    "    model = LinearRegression()\n",
    "    model.fit(X_train,Y_train)\n",
    "    return model"
   ]
  },
  {
   "cell_type": "code",
   "execution_count": 36,
   "id": "abe0f95f-68cd-49e1-8756-9c1d7e23f090",
   "metadata": {},
   "outputs": [],
   "source": [
    "def decision_tree_model():\n",
    "    from sklearn.tree import DecisionTreeRegressor\n",
    "    model = DecisionTreeRegressor()\n",
    "    model.fit(X_train,Y_train)\n",
    "    return model"
   ]
  },
  {
   "cell_type": "code",
   "execution_count": 37,
   "id": "3e39830a",
   "metadata": {},
   "outputs": [],
   "source": [
    "def random_forest_model():\n",
    "    from sklearn.ensemble import RandomForestRegressor\n",
    "    model = RandomForestRegressor()\n",
    "    model.fit(X_train,Y_train)\n",
    "    return model"
   ]
  },
  {
   "cell_type": "code",
   "execution_count": 38,
   "id": "0f32fcf0-d43f-459a-bc2d-e3881ef3af5b",
   "metadata": {},
   "outputs": [],
   "source": [
    "def catBoost_model():\n",
    "    from catboost import CatBoostRegressor\n",
    "    model = CatBoostRegressor()\n",
    "    model.fit(X_train,Y_train)\n",
    "    return model"
   ]
  },
  {
   "cell_type": "code",
   "execution_count": 39,
   "id": "0502e48d-1a3a-4d6d-999e-c32ef85491ec",
   "metadata": {},
   "outputs": [],
   "source": [
    "def xgBoost_model():\n",
    "    from xgboost import XGBRegressor\n",
    "    model = XGBRegressor()\n",
    "    model.fit(X_train,Y_train)\n",
    "    return model"
   ]
  },
  {
   "cell_type": "code",
   "execution_count": 40,
   "id": "a058917c-1da1-4350-ae29-5735447fa0bc",
   "metadata": {},
   "outputs": [
    {
     "name": "stdout",
     "output_type": "stream",
     "text": [
      "Learning rate set to 0.088885\n",
      "0:\tlearn: 86224.2776891\ttotal: 63.9ms\tremaining: 1m 3s\n",
      "1:\tlearn: 81569.8462786\ttotal: 76.5ms\tremaining: 38.2s\n",
      "2:\tlearn: 77522.3077687\ttotal: 86.2ms\tremaining: 28.6s\n",
      "3:\tlearn: 73886.6356651\ttotal: 94.1ms\tremaining: 23.4s\n",
      "4:\tlearn: 70595.1454608\ttotal: 102ms\tremaining: 20.3s\n",
      "5:\tlearn: 67769.6783843\ttotal: 109ms\tremaining: 18.1s\n",
      "6:\tlearn: 65257.3447783\ttotal: 116ms\tremaining: 16.4s\n",
      "7:\tlearn: 62955.0771695\ttotal: 123ms\tremaining: 15.3s\n",
      "8:\tlearn: 60921.7957986\ttotal: 131ms\tremaining: 14.4s\n",
      "9:\tlearn: 59181.9634504\ttotal: 138ms\tremaining: 13.6s\n",
      "10:\tlearn: 57557.5596193\ttotal: 145ms\tremaining: 13s\n",
      "11:\tlearn: 56214.8701047\ttotal: 152ms\tremaining: 12.5s\n",
      "12:\tlearn: 54964.4051736\ttotal: 159ms\tremaining: 12s\n",
      "13:\tlearn: 53923.4455456\ttotal: 166ms\tremaining: 11.7s\n",
      "14:\tlearn: 52984.8477661\ttotal: 173ms\tremaining: 11.3s\n",
      "15:\tlearn: 52168.4761931\ttotal: 180ms\tremaining: 11.1s\n",
      "16:\tlearn: 51361.4199054\ttotal: 188ms\tremaining: 10.9s\n",
      "17:\tlearn: 50678.1059099\ttotal: 198ms\tremaining: 10.8s\n",
      "18:\tlearn: 50012.9555415\ttotal: 209ms\tremaining: 10.8s\n",
      "19:\tlearn: 49338.8164870\ttotal: 221ms\tremaining: 10.8s\n",
      "20:\tlearn: 48818.8572224\ttotal: 228ms\tremaining: 10.7s\n",
      "21:\tlearn: 48393.9805161\ttotal: 236ms\tremaining: 10.5s\n",
      "22:\tlearn: 47998.7100371\ttotal: 243ms\tremaining: 10.3s\n",
      "23:\tlearn: 47454.0846827\ttotal: 251ms\tremaining: 10.2s\n",
      "24:\tlearn: 47005.5341666\ttotal: 259ms\tremaining: 10.1s\n",
      "25:\tlearn: 46621.0668885\ttotal: 266ms\tremaining: 9.98s\n",
      "26:\tlearn: 46336.7814089\ttotal: 275ms\tremaining: 9.91s\n",
      "27:\tlearn: 46122.0283205\ttotal: 282ms\tremaining: 9.78s\n",
      "28:\tlearn: 45766.2705567\ttotal: 290ms\tremaining: 9.71s\n",
      "29:\tlearn: 45514.2760282\ttotal: 297ms\tremaining: 9.6s\n",
      "30:\tlearn: 45279.1779415\ttotal: 305ms\tremaining: 9.52s\n",
      "31:\tlearn: 45095.8200898\ttotal: 311ms\tremaining: 9.42s\n",
      "32:\tlearn: 44801.4764571\ttotal: 319ms\tremaining: 9.35s\n",
      "33:\tlearn: 44678.6742069\ttotal: 325ms\tremaining: 9.24s\n",
      "34:\tlearn: 44525.6856869\ttotal: 332ms\tremaining: 9.16s\n",
      "35:\tlearn: 44284.9408052\ttotal: 339ms\tremaining: 9.08s\n",
      "36:\tlearn: 44138.5667923\ttotal: 346ms\tremaining: 9.01s\n",
      "37:\tlearn: 43983.4041277\ttotal: 353ms\tremaining: 8.93s\n",
      "38:\tlearn: 43769.8443025\ttotal: 361ms\tremaining: 8.89s\n",
      "39:\tlearn: 43557.6364694\ttotal: 368ms\tremaining: 8.84s\n",
      "40:\tlearn: 43454.0915290\ttotal: 375ms\tremaining: 8.77s\n",
      "41:\tlearn: 43370.5367185\ttotal: 381ms\tremaining: 8.7s\n",
      "42:\tlearn: 43295.6456190\ttotal: 389ms\tremaining: 8.66s\n",
      "43:\tlearn: 43123.5235067\ttotal: 399ms\tremaining: 8.66s\n",
      "44:\tlearn: 42940.4509653\ttotal: 409ms\tremaining: 8.68s\n",
      "45:\tlearn: 42813.7079039\ttotal: 418ms\tremaining: 8.66s\n",
      "46:\tlearn: 42664.1885962\ttotal: 425ms\tremaining: 8.63s\n",
      "47:\tlearn: 42622.1236139\ttotal: 432ms\tremaining: 8.57s\n",
      "48:\tlearn: 42520.9482973\ttotal: 439ms\tremaining: 8.52s\n",
      "49:\tlearn: 42482.5099254\ttotal: 446ms\tremaining: 8.47s\n",
      "50:\tlearn: 42343.8568408\ttotal: 453ms\tremaining: 8.42s\n",
      "51:\tlearn: 42191.2150432\ttotal: 460ms\tremaining: 8.39s\n",
      "52:\tlearn: 42040.1135554\ttotal: 468ms\tremaining: 8.37s\n",
      "53:\tlearn: 41861.7659780\ttotal: 476ms\tremaining: 8.34s\n",
      "54:\tlearn: 41747.4995440\ttotal: 484ms\tremaining: 8.31s\n",
      "55:\tlearn: 41688.0869229\ttotal: 490ms\tremaining: 8.27s\n",
      "56:\tlearn: 41574.5305333\ttotal: 498ms\tremaining: 8.23s\n",
      "57:\tlearn: 41543.7336627\ttotal: 504ms\tremaining: 8.19s\n",
      "58:\tlearn: 41514.0933447\ttotal: 511ms\tremaining: 8.14s\n",
      "59:\tlearn: 41380.9320609\ttotal: 519ms\tremaining: 8.13s\n",
      "60:\tlearn: 41271.6846911\ttotal: 527ms\tremaining: 8.1s\n",
      "61:\tlearn: 41163.8024416\ttotal: 533ms\tremaining: 8.07s\n",
      "62:\tlearn: 41136.4155407\ttotal: 540ms\tremaining: 8.03s\n",
      "63:\tlearn: 41031.2752956\ttotal: 548ms\tremaining: 8.01s\n",
      "64:\tlearn: 40958.9447720\ttotal: 555ms\tremaining: 7.99s\n",
      "65:\tlearn: 40858.2565165\ttotal: 563ms\tremaining: 7.96s\n",
      "66:\tlearn: 40766.9700475\ttotal: 570ms\tremaining: 7.93s\n",
      "67:\tlearn: 40671.5273798\ttotal: 578ms\tremaining: 7.92s\n",
      "68:\tlearn: 40646.4137941\ttotal: 585ms\tremaining: 7.89s\n",
      "69:\tlearn: 40561.8033839\ttotal: 594ms\tremaining: 7.89s\n",
      "70:\tlearn: 40489.8369004\ttotal: 604ms\tremaining: 7.91s\n",
      "71:\tlearn: 40403.9720059\ttotal: 614ms\tremaining: 7.92s\n",
      "72:\tlearn: 40369.0314212\ttotal: 621ms\tremaining: 7.89s\n",
      "73:\tlearn: 40301.8993670\ttotal: 629ms\tremaining: 7.87s\n",
      "74:\tlearn: 40246.6377788\ttotal: 636ms\tremaining: 7.84s\n",
      "75:\tlearn: 40155.4225027\ttotal: 644ms\tremaining: 7.83s\n",
      "76:\tlearn: 40075.1860191\ttotal: 651ms\tremaining: 7.81s\n",
      "77:\tlearn: 39988.3252032\ttotal: 658ms\tremaining: 7.78s\n",
      "78:\tlearn: 39914.3927776\ttotal: 667ms\tremaining: 7.77s\n",
      "79:\tlearn: 39893.8073948\ttotal: 673ms\tremaining: 7.74s\n",
      "80:\tlearn: 39813.9742827\ttotal: 680ms\tremaining: 7.71s\n",
      "81:\tlearn: 39772.1802514\ttotal: 687ms\tremaining: 7.69s\n",
      "82:\tlearn: 39711.1233806\ttotal: 694ms\tremaining: 7.67s\n",
      "83:\tlearn: 39642.2936038\ttotal: 702ms\tremaining: 7.66s\n",
      "84:\tlearn: 39623.6488944\ttotal: 709ms\tremaining: 7.63s\n",
      "85:\tlearn: 39589.5244961\ttotal: 715ms\tremaining: 7.6s\n",
      "86:\tlearn: 39487.0430943\ttotal: 723ms\tremaining: 7.59s\n",
      "87:\tlearn: 39413.6539929\ttotal: 730ms\tremaining: 7.57s\n",
      "88:\tlearn: 39338.7208701\ttotal: 737ms\tremaining: 7.54s\n",
      "89:\tlearn: 39322.4187500\ttotal: 744ms\tremaining: 7.52s\n",
      "90:\tlearn: 39214.5722466\ttotal: 752ms\tremaining: 7.51s\n",
      "91:\tlearn: 39189.2209269\ttotal: 759ms\tremaining: 7.49s\n",
      "92:\tlearn: 39174.2095773\ttotal: 767ms\tremaining: 7.48s\n",
      "93:\tlearn: 39115.0157315\ttotal: 775ms\tremaining: 7.47s\n",
      "94:\tlearn: 39083.2020533\ttotal: 782ms\tremaining: 7.45s\n",
      "95:\tlearn: 39027.3831140\ttotal: 789ms\tremaining: 7.43s\n",
      "96:\tlearn: 39012.5099053\ttotal: 796ms\tremaining: 7.41s\n",
      "97:\tlearn: 38999.6689224\ttotal: 810ms\tremaining: 7.45s\n",
      "98:\tlearn: 38987.7490367\ttotal: 820ms\tremaining: 7.46s\n",
      "99:\tlearn: 38967.4853040\ttotal: 828ms\tremaining: 7.45s\n",
      "100:\tlearn: 38906.4066172\ttotal: 837ms\tremaining: 7.45s\n",
      "101:\tlearn: 38806.5089322\ttotal: 844ms\tremaining: 7.43s\n",
      "102:\tlearn: 38749.5626562\ttotal: 851ms\tremaining: 7.41s\n",
      "103:\tlearn: 38676.5308721\ttotal: 859ms\tremaining: 7.4s\n",
      "104:\tlearn: 38650.8177379\ttotal: 866ms\tremaining: 7.38s\n",
      "105:\tlearn: 38589.3221243\ttotal: 873ms\tremaining: 7.36s\n",
      "106:\tlearn: 38501.3968081\ttotal: 880ms\tremaining: 7.35s\n",
      "107:\tlearn: 38453.9627370\ttotal: 888ms\tremaining: 7.33s\n",
      "108:\tlearn: 38411.8965328\ttotal: 895ms\tremaining: 7.32s\n",
      "109:\tlearn: 38331.9572254\ttotal: 903ms\tremaining: 7.3s\n",
      "110:\tlearn: 38262.9029349\ttotal: 910ms\tremaining: 7.29s\n",
      "111:\tlearn: 38196.6507567\ttotal: 918ms\tremaining: 7.28s\n",
      "112:\tlearn: 38098.2783259\ttotal: 926ms\tremaining: 7.27s\n",
      "113:\tlearn: 38048.2520900\ttotal: 933ms\tremaining: 7.25s\n",
      "114:\tlearn: 38003.1378954\ttotal: 939ms\tremaining: 7.23s\n",
      "115:\tlearn: 37954.9140813\ttotal: 948ms\tremaining: 7.22s\n",
      "116:\tlearn: 37922.8832771\ttotal: 955ms\tremaining: 7.2s\n",
      "117:\tlearn: 37876.9156513\ttotal: 961ms\tremaining: 7.18s\n",
      "118:\tlearn: 37833.6543266\ttotal: 969ms\tremaining: 7.17s\n",
      "119:\tlearn: 37771.2452631\ttotal: 976ms\tremaining: 7.16s\n",
      "120:\tlearn: 37729.8244803\ttotal: 984ms\tremaining: 7.15s\n",
      "121:\tlearn: 37633.0253612\ttotal: 992ms\tremaining: 7.14s\n",
      "122:\tlearn: 37592.1034609\ttotal: 1s\tremaining: 7.13s\n",
      "123:\tlearn: 37510.1084919\ttotal: 1.01s\tremaining: 7.14s\n",
      "124:\tlearn: 37469.8158375\ttotal: 1.02s\tremaining: 7.15s\n",
      "125:\tlearn: 37439.8276542\ttotal: 1.03s\tremaining: 7.15s\n",
      "126:\tlearn: 37327.6316317\ttotal: 1.04s\tremaining: 7.15s\n",
      "127:\tlearn: 37271.3451600\ttotal: 1.05s\tremaining: 7.14s\n",
      "128:\tlearn: 37200.2417391\ttotal: 1.05s\tremaining: 7.13s\n",
      "129:\tlearn: 37170.8958386\ttotal: 1.06s\tremaining: 7.11s\n",
      "130:\tlearn: 37157.3247342\ttotal: 1.07s\tremaining: 7.09s\n",
      "131:\tlearn: 37089.9320983\ttotal: 1.08s\tremaining: 7.08s\n",
      "132:\tlearn: 37054.4942115\ttotal: 1.08s\tremaining: 7.06s\n",
      "133:\tlearn: 36989.3272375\ttotal: 1.09s\tremaining: 7.06s\n",
      "134:\tlearn: 36923.7068014\ttotal: 1.1s\tremaining: 7.05s\n",
      "135:\tlearn: 36908.3741141\ttotal: 1.11s\tremaining: 7.03s\n",
      "136:\tlearn: 36871.3840043\ttotal: 1.11s\tremaining: 7.02s\n",
      "137:\tlearn: 36834.2180173\ttotal: 1.12s\tremaining: 7s\n",
      "138:\tlearn: 36797.8471926\ttotal: 1.13s\tremaining: 6.99s\n",
      "139:\tlearn: 36786.3616268\ttotal: 1.14s\tremaining: 6.97s\n",
      "140:\tlearn: 36707.4431391\ttotal: 1.14s\tremaining: 6.96s\n",
      "141:\tlearn: 36628.1808747\ttotal: 1.15s\tremaining: 6.95s\n",
      "142:\tlearn: 36575.4435068\ttotal: 1.16s\tremaining: 6.94s\n",
      "143:\tlearn: 36562.0956558\ttotal: 1.16s\tremaining: 6.92s\n",
      "144:\tlearn: 36549.9792649\ttotal: 1.17s\tremaining: 6.91s\n",
      "145:\tlearn: 36482.1101902\ttotal: 1.18s\tremaining: 6.9s\n",
      "146:\tlearn: 36411.4077655\ttotal: 1.19s\tremaining: 6.89s\n",
      "147:\tlearn: 36404.4554246\ttotal: 1.19s\tremaining: 6.87s\n",
      "148:\tlearn: 36397.8696976\ttotal: 1.2s\tremaining: 6.86s\n",
      "149:\tlearn: 36369.2729123\ttotal: 1.21s\tremaining: 6.86s\n",
      "150:\tlearn: 36309.4038173\ttotal: 1.22s\tremaining: 6.87s\n",
      "151:\tlearn: 36264.3481098\ttotal: 1.23s\tremaining: 6.87s\n",
      "152:\tlearn: 36225.9771484\ttotal: 1.24s\tremaining: 6.86s\n",
      "153:\tlearn: 36196.1822172\ttotal: 1.25s\tremaining: 6.85s\n",
      "154:\tlearn: 36117.7561775\ttotal: 1.25s\tremaining: 6.84s\n",
      "155:\tlearn: 36085.8027838\ttotal: 1.26s\tremaining: 6.83s\n",
      "156:\tlearn: 36049.1846048\ttotal: 1.27s\tremaining: 6.82s\n",
      "157:\tlearn: 36022.5381718\ttotal: 1.28s\tremaining: 6.82s\n",
      "158:\tlearn: 36001.8492097\ttotal: 1.29s\tremaining: 6.81s\n",
      "159:\tlearn: 35995.4480837\ttotal: 1.29s\tremaining: 6.8s\n",
      "160:\tlearn: 35927.0781352\ttotal: 1.3s\tremaining: 6.79s\n",
      "161:\tlearn: 35902.8154046\ttotal: 1.31s\tremaining: 6.79s\n",
      "162:\tlearn: 35866.2742450\ttotal: 1.32s\tremaining: 6.78s\n",
      "163:\tlearn: 35806.1545974\ttotal: 1.33s\tremaining: 6.77s\n",
      "164:\tlearn: 35757.6098231\ttotal: 1.34s\tremaining: 6.76s\n",
      "165:\tlearn: 35725.7593921\ttotal: 1.34s\tremaining: 6.76s\n",
      "166:\tlearn: 35719.3804960\ttotal: 1.35s\tremaining: 6.75s\n",
      "167:\tlearn: 35657.0328858\ttotal: 1.36s\tremaining: 6.75s\n",
      "168:\tlearn: 35614.8881539\ttotal: 1.37s\tremaining: 6.74s\n",
      "169:\tlearn: 35576.7263025\ttotal: 1.38s\tremaining: 6.74s\n",
      "170:\tlearn: 35554.3978886\ttotal: 1.39s\tremaining: 6.73s\n",
      "171:\tlearn: 35526.2954333\ttotal: 1.4s\tremaining: 6.72s\n",
      "172:\tlearn: 35519.4018571\ttotal: 1.41s\tremaining: 6.72s\n",
      "173:\tlearn: 35462.3634148\ttotal: 1.42s\tremaining: 6.72s\n",
      "174:\tlearn: 35439.4233741\ttotal: 1.43s\tremaining: 6.73s\n",
      "175:\tlearn: 35409.6463325\ttotal: 1.44s\tremaining: 6.72s\n",
      "176:\tlearn: 35371.6313930\ttotal: 1.45s\tremaining: 6.72s\n",
      "177:\tlearn: 35318.6235186\ttotal: 1.45s\tremaining: 6.72s\n",
      "178:\tlearn: 35300.2505758\ttotal: 1.46s\tremaining: 6.71s\n",
      "179:\tlearn: 35280.4014171\ttotal: 1.47s\tremaining: 6.7s\n",
      "180:\tlearn: 35274.6379591\ttotal: 1.48s\tremaining: 6.69s\n",
      "181:\tlearn: 35235.4682604\ttotal: 1.49s\tremaining: 6.68s\n",
      "182:\tlearn: 35184.6667507\ttotal: 1.5s\tremaining: 6.68s\n",
      "183:\tlearn: 35149.2864457\ttotal: 1.5s\tremaining: 6.67s\n",
      "184:\tlearn: 35125.6810022\ttotal: 1.51s\tremaining: 6.67s\n",
      "185:\tlearn: 35098.8797405\ttotal: 1.52s\tremaining: 6.66s\n",
      "186:\tlearn: 35089.0218801\ttotal: 1.53s\tremaining: 6.65s\n",
      "187:\tlearn: 35074.6682012\ttotal: 1.54s\tremaining: 6.63s\n",
      "188:\tlearn: 35044.9547570\ttotal: 1.54s\tremaining: 6.63s\n",
      "189:\tlearn: 35025.0942155\ttotal: 1.55s\tremaining: 6.61s\n",
      "190:\tlearn: 34979.6480015\ttotal: 1.56s\tremaining: 6.61s\n",
      "191:\tlearn: 34913.3818690\ttotal: 1.57s\tremaining: 6.6s\n",
      "192:\tlearn: 34897.8899561\ttotal: 1.57s\tremaining: 6.59s\n",
      "193:\tlearn: 34873.1704641\ttotal: 1.58s\tremaining: 6.58s\n",
      "194:\tlearn: 34861.2044166\ttotal: 1.59s\tremaining: 6.57s\n",
      "195:\tlearn: 34832.8141996\ttotal: 1.6s\tremaining: 6.55s\n",
      "196:\tlearn: 34827.2839065\ttotal: 1.6s\tremaining: 6.54s\n",
      "197:\tlearn: 34806.6362658\ttotal: 1.61s\tremaining: 6.54s\n",
      "198:\tlearn: 34792.4059041\ttotal: 1.63s\tremaining: 6.54s\n",
      "199:\tlearn: 34770.8656690\ttotal: 1.63s\tremaining: 6.53s\n",
      "200:\tlearn: 34750.6517498\ttotal: 1.64s\tremaining: 6.52s\n",
      "201:\tlearn: 34744.8769079\ttotal: 1.65s\tremaining: 6.51s\n",
      "202:\tlearn: 34720.5362463\ttotal: 1.66s\tremaining: 6.5s\n",
      "203:\tlearn: 34676.0669157\ttotal: 1.66s\tremaining: 6.49s\n",
      "204:\tlearn: 34640.8074160\ttotal: 1.67s\tremaining: 6.47s\n",
      "205:\tlearn: 34635.3228894\ttotal: 1.68s\tremaining: 6.46s\n",
      "206:\tlearn: 34630.1703232\ttotal: 1.68s\tremaining: 6.45s\n",
      "207:\tlearn: 34618.5561870\ttotal: 1.69s\tremaining: 6.43s\n",
      "208:\tlearn: 34591.1278159\ttotal: 1.7s\tremaining: 6.43s\n",
      "209:\tlearn: 34561.9620905\ttotal: 1.71s\tremaining: 6.42s\n",
      "210:\tlearn: 34523.5817843\ttotal: 1.72s\tremaining: 6.42s\n",
      "211:\tlearn: 34506.7177033\ttotal: 1.72s\tremaining: 6.4s\n",
      "212:\tlearn: 34486.2554817\ttotal: 1.73s\tremaining: 6.39s\n",
      "213:\tlearn: 34467.1434689\ttotal: 1.74s\tremaining: 6.38s\n",
      "214:\tlearn: 34462.4872647\ttotal: 1.75s\tremaining: 6.37s\n",
      "215:\tlearn: 34450.2476184\ttotal: 1.75s\tremaining: 6.36s\n",
      "216:\tlearn: 34445.8559859\ttotal: 1.76s\tremaining: 6.35s\n",
      "217:\tlearn: 34441.7120528\ttotal: 1.77s\tremaining: 6.34s\n",
      "218:\tlearn: 34378.6444923\ttotal: 1.77s\tremaining: 6.33s\n",
      "219:\tlearn: 34350.5507234\ttotal: 1.78s\tremaining: 6.32s\n",
      "220:\tlearn: 34316.4633567\ttotal: 1.79s\tremaining: 6.32s\n",
      "221:\tlearn: 34295.0774652\ttotal: 1.8s\tremaining: 6.31s\n",
      "222:\tlearn: 34248.0368267\ttotal: 1.81s\tremaining: 6.3s\n",
      "223:\tlearn: 34227.2291400\ttotal: 1.82s\tremaining: 6.29s\n",
      "224:\tlearn: 34215.9813896\ttotal: 1.83s\tremaining: 6.29s\n",
      "225:\tlearn: 34179.3028486\ttotal: 1.84s\tremaining: 6.29s\n",
      "226:\tlearn: 34161.9676133\ttotal: 1.84s\tremaining: 6.28s\n",
      "227:\tlearn: 34133.2633687\ttotal: 1.85s\tremaining: 6.28s\n",
      "228:\tlearn: 34107.2063139\ttotal: 1.86s\tremaining: 6.28s\n",
      "229:\tlearn: 34083.0968633\ttotal: 1.88s\tremaining: 6.28s\n",
      "230:\tlearn: 34044.9191899\ttotal: 1.89s\tremaining: 6.28s\n",
      "231:\tlearn: 34037.1180919\ttotal: 1.89s\tremaining: 6.27s\n",
      "232:\tlearn: 34002.5215072\ttotal: 1.91s\tremaining: 6.28s\n",
      "233:\tlearn: 33970.4904341\ttotal: 1.92s\tremaining: 6.27s\n",
      "234:\tlearn: 33952.4696848\ttotal: 1.93s\tremaining: 6.27s\n",
      "235:\tlearn: 33935.7973670\ttotal: 1.94s\tremaining: 6.27s\n",
      "236:\tlearn: 33932.1558874\ttotal: 1.94s\tremaining: 6.26s\n",
      "237:\tlearn: 33877.8045658\ttotal: 1.95s\tremaining: 6.26s\n",
      "238:\tlearn: 33867.7413333\ttotal: 1.96s\tremaining: 6.25s\n",
      "239:\tlearn: 33864.2485167\ttotal: 1.97s\tremaining: 6.24s\n",
      "240:\tlearn: 33854.3361060\ttotal: 1.98s\tremaining: 6.24s\n",
      "241:\tlearn: 33836.6829530\ttotal: 1.99s\tremaining: 6.23s\n",
      "242:\tlearn: 33815.9194032\ttotal: 2s\tremaining: 6.22s\n",
      "243:\tlearn: 33796.4954790\ttotal: 2.01s\tremaining: 6.22s\n",
      "244:\tlearn: 33768.5730286\ttotal: 2.02s\tremaining: 6.22s\n",
      "245:\tlearn: 33745.7090074\ttotal: 2.03s\tremaining: 6.22s\n",
      "246:\tlearn: 33724.3112269\ttotal: 2.04s\tremaining: 6.22s\n",
      "247:\tlearn: 33705.2168208\ttotal: 2.05s\tremaining: 6.21s\n",
      "248:\tlearn: 33683.7110384\ttotal: 2.06s\tremaining: 6.21s\n",
      "249:\tlearn: 33652.3314528\ttotal: 2.06s\tremaining: 6.2s\n",
      "250:\tlearn: 33649.1187626\ttotal: 2.07s\tremaining: 6.19s\n",
      "251:\tlearn: 33638.1551690\ttotal: 2.08s\tremaining: 6.18s\n",
      "252:\tlearn: 33618.3554406\ttotal: 2.09s\tremaining: 6.18s\n",
      "253:\tlearn: 33615.2887026\ttotal: 2.1s\tremaining: 6.16s\n",
      "254:\tlearn: 33584.5131470\ttotal: 2.11s\tremaining: 6.16s\n",
      "255:\tlearn: 33571.7229617\ttotal: 2.12s\tremaining: 6.16s\n",
      "256:\tlearn: 33547.4041524\ttotal: 2.13s\tremaining: 6.15s\n",
      "257:\tlearn: 33531.5295646\ttotal: 2.14s\tremaining: 6.15s\n",
      "258:\tlearn: 33512.7630815\ttotal: 2.15s\tremaining: 6.14s\n",
      "259:\tlearn: 33509.7447512\ttotal: 2.15s\tremaining: 6.13s\n",
      "260:\tlearn: 33506.8902872\ttotal: 2.16s\tremaining: 6.12s\n",
      "261:\tlearn: 33484.6703492\ttotal: 2.17s\tremaining: 6.12s\n",
      "262:\tlearn: 33471.8742980\ttotal: 2.18s\tremaining: 6.11s\n",
      "263:\tlearn: 33445.0246025\ttotal: 2.19s\tremaining: 6.11s\n",
      "264:\tlearn: 33423.6490495\ttotal: 2.21s\tremaining: 6.12s\n",
      "265:\tlearn: 33400.6810164\ttotal: 2.22s\tremaining: 6.12s\n",
      "266:\tlearn: 33382.8330132\ttotal: 2.23s\tremaining: 6.12s\n",
      "267:\tlearn: 33359.9301778\ttotal: 2.24s\tremaining: 6.12s\n",
      "268:\tlearn: 33339.4489968\ttotal: 2.25s\tremaining: 6.11s\n",
      "269:\tlearn: 33317.2415316\ttotal: 2.26s\tremaining: 6.1s\n",
      "270:\tlearn: 33303.3151194\ttotal: 2.27s\tremaining: 6.09s\n",
      "271:\tlearn: 33300.6269130\ttotal: 2.27s\tremaining: 6.08s\n",
      "272:\tlearn: 33282.4043241\ttotal: 2.28s\tremaining: 6.07s\n",
      "273:\tlearn: 33275.1255680\ttotal: 2.29s\tremaining: 6.06s\n",
      "274:\tlearn: 33272.6075193\ttotal: 2.29s\tremaining: 6.05s\n",
      "275:\tlearn: 33263.2063288\ttotal: 2.3s\tremaining: 6.04s\n",
      "276:\tlearn: 33246.4733835\ttotal: 2.31s\tremaining: 6.03s\n",
      "277:\tlearn: 33229.3807682\ttotal: 2.32s\tremaining: 6.02s\n",
      "278:\tlearn: 33200.6669835\ttotal: 2.33s\tremaining: 6.01s\n",
      "279:\tlearn: 33181.0407722\ttotal: 2.33s\tremaining: 6s\n",
      "280:\tlearn: 33158.6926740\ttotal: 2.34s\tremaining: 5.99s\n",
      "281:\tlearn: 33146.9831851\ttotal: 2.35s\tremaining: 5.98s\n",
      "282:\tlearn: 33112.1099442\ttotal: 2.36s\tremaining: 5.97s\n",
      "283:\tlearn: 33102.4364347\ttotal: 2.36s\tremaining: 5.96s\n",
      "284:\tlearn: 33090.8112850\ttotal: 2.37s\tremaining: 5.95s\n",
      "285:\tlearn: 33073.2977669\ttotal: 2.38s\tremaining: 5.94s\n",
      "286:\tlearn: 33063.6688944\ttotal: 2.38s\tremaining: 5.92s\n",
      "287:\tlearn: 33045.9251078\ttotal: 2.39s\tremaining: 5.92s\n",
      "288:\tlearn: 33033.9139068\ttotal: 2.4s\tremaining: 5.91s\n",
      "289:\tlearn: 33016.0574050\ttotal: 2.41s\tremaining: 5.9s\n",
      "290:\tlearn: 32976.8613523\ttotal: 2.42s\tremaining: 5.89s\n",
      "291:\tlearn: 32962.7089253\ttotal: 2.43s\tremaining: 5.89s\n",
      "292:\tlearn: 32933.8534955\ttotal: 2.44s\tremaining: 5.89s\n",
      "293:\tlearn: 32917.2739717\ttotal: 2.45s\tremaining: 5.88s\n",
      "294:\tlearn: 32900.8473332\ttotal: 2.46s\tremaining: 5.87s\n",
      "295:\tlearn: 32883.8649643\ttotal: 2.46s\tremaining: 5.86s\n",
      "296:\tlearn: 32873.5666281\ttotal: 2.47s\tremaining: 5.86s\n",
      "297:\tlearn: 32871.5266550\ttotal: 2.48s\tremaining: 5.84s\n",
      "298:\tlearn: 32865.0310834\ttotal: 2.49s\tremaining: 5.84s\n",
      "299:\tlearn: 32851.0015487\ttotal: 2.5s\tremaining: 5.83s\n",
      "300:\tlearn: 32840.9699090\ttotal: 2.51s\tremaining: 5.82s\n",
      "301:\tlearn: 32823.7448559\ttotal: 2.52s\tremaining: 5.81s\n",
      "302:\tlearn: 32816.7069076\ttotal: 2.52s\tremaining: 5.8s\n",
      "303:\tlearn: 32792.1584301\ttotal: 2.53s\tremaining: 5.8s\n",
      "304:\tlearn: 32785.5900168\ttotal: 2.54s\tremaining: 5.79s\n",
      "305:\tlearn: 32770.2306978\ttotal: 2.55s\tremaining: 5.79s\n",
      "306:\tlearn: 32750.5291055\ttotal: 2.56s\tremaining: 5.78s\n",
      "307:\tlearn: 32735.5543615\ttotal: 2.57s\tremaining: 5.77s\n",
      "308:\tlearn: 32729.4984566\ttotal: 2.58s\tremaining: 5.76s\n",
      "309:\tlearn: 32705.9451846\ttotal: 2.58s\tremaining: 5.75s\n",
      "310:\tlearn: 32687.5086224\ttotal: 2.59s\tremaining: 5.75s\n",
      "311:\tlearn: 32667.1872688\ttotal: 2.6s\tremaining: 5.75s\n",
      "312:\tlearn: 32659.3620754\ttotal: 2.61s\tremaining: 5.74s\n",
      "313:\tlearn: 32642.6228880\ttotal: 2.62s\tremaining: 5.73s\n",
      "314:\tlearn: 32617.9679743\ttotal: 2.63s\tremaining: 5.72s\n",
      "315:\tlearn: 32601.6210558\ttotal: 2.64s\tremaining: 5.72s\n",
      "316:\tlearn: 32591.3030015\ttotal: 2.67s\tremaining: 5.76s\n",
      "317:\tlearn: 32577.3655152\ttotal: 2.69s\tremaining: 5.77s\n",
      "318:\tlearn: 32558.2955080\ttotal: 2.71s\tremaining: 5.79s\n",
      "319:\tlearn: 32549.5556556\ttotal: 2.72s\tremaining: 5.78s\n",
      "320:\tlearn: 32535.4873916\ttotal: 2.73s\tremaining: 5.77s\n",
      "321:\tlearn: 32509.3730780\ttotal: 2.74s\tremaining: 5.76s\n",
      "322:\tlearn: 32502.6793203\ttotal: 2.75s\tremaining: 5.76s\n",
      "323:\tlearn: 32493.7599255\ttotal: 2.75s\tremaining: 5.75s\n",
      "324:\tlearn: 32484.5248669\ttotal: 2.76s\tremaining: 5.74s\n",
      "325:\tlearn: 32465.9385628\ttotal: 2.77s\tremaining: 5.73s\n",
      "326:\tlearn: 32456.8510179\ttotal: 2.78s\tremaining: 5.72s\n",
      "327:\tlearn: 32446.4628564\ttotal: 2.79s\tremaining: 5.71s\n",
      "328:\tlearn: 32430.8703865\ttotal: 2.8s\tremaining: 5.7s\n",
      "329:\tlearn: 32416.8637151\ttotal: 2.81s\tremaining: 5.7s\n",
      "330:\tlearn: 32401.1855897\ttotal: 2.81s\tremaining: 5.69s\n",
      "331:\tlearn: 32394.2046908\ttotal: 2.82s\tremaining: 5.68s\n",
      "332:\tlearn: 32381.5639045\ttotal: 2.83s\tremaining: 5.67s\n",
      "333:\tlearn: 32352.8264509\ttotal: 2.84s\tremaining: 5.67s\n",
      "334:\tlearn: 32341.1047372\ttotal: 2.85s\tremaining: 5.66s\n",
      "335:\tlearn: 32329.4001637\ttotal: 2.86s\tremaining: 5.66s\n",
      "336:\tlearn: 32318.1524203\ttotal: 2.87s\tremaining: 5.65s\n",
      "337:\tlearn: 32310.8153537\ttotal: 2.88s\tremaining: 5.64s\n",
      "338:\tlearn: 32305.5188860\ttotal: 2.89s\tremaining: 5.63s\n",
      "339:\tlearn: 32285.1364130\ttotal: 2.89s\tremaining: 5.62s\n",
      "340:\tlearn: 32275.5011277\ttotal: 2.9s\tremaining: 5.61s\n",
      "341:\tlearn: 32269.4003061\ttotal: 2.91s\tremaining: 5.6s\n",
      "342:\tlearn: 32257.3739501\ttotal: 2.92s\tremaining: 5.59s\n",
      "343:\tlearn: 32239.9481254\ttotal: 2.93s\tremaining: 5.58s\n",
      "344:\tlearn: 32220.1084722\ttotal: 2.94s\tremaining: 5.58s\n",
      "345:\tlearn: 32183.9009526\ttotal: 2.94s\tremaining: 5.57s\n",
      "346:\tlearn: 32176.2264797\ttotal: 2.95s\tremaining: 5.55s\n",
      "347:\tlearn: 32166.9962899\ttotal: 2.96s\tremaining: 5.55s\n",
      "348:\tlearn: 32159.0956616\ttotal: 2.97s\tremaining: 5.54s\n",
      "349:\tlearn: 32151.1488885\ttotal: 2.98s\tremaining: 5.53s\n",
      "350:\tlearn: 32146.3896932\ttotal: 2.98s\tremaining: 5.52s\n",
      "351:\tlearn: 32139.2442891\ttotal: 2.99s\tremaining: 5.51s\n",
      "352:\tlearn: 32124.9743071\ttotal: 3s\tremaining: 5.5s\n",
      "353:\tlearn: 32113.1475109\ttotal: 3.01s\tremaining: 5.49s\n",
      "354:\tlearn: 32098.1678327\ttotal: 3.02s\tremaining: 5.48s\n",
      "355:\tlearn: 32088.2302595\ttotal: 3.03s\tremaining: 5.47s\n",
      "356:\tlearn: 32086.4875176\ttotal: 3.04s\tremaining: 5.47s\n",
      "357:\tlearn: 32067.6655066\ttotal: 3.05s\tremaining: 5.46s\n",
      "358:\tlearn: 32056.6221669\ttotal: 3.06s\tremaining: 5.46s\n",
      "359:\tlearn: 32054.9814868\ttotal: 3.06s\tremaining: 5.45s\n",
      "360:\tlearn: 32044.6742376\ttotal: 3.07s\tremaining: 5.44s\n",
      "361:\tlearn: 32027.6158253\ttotal: 3.08s\tremaining: 5.43s\n",
      "362:\tlearn: 32011.6337991\ttotal: 3.09s\tremaining: 5.42s\n",
      "363:\tlearn: 32003.3628073\ttotal: 3.1s\tremaining: 5.41s\n",
      "364:\tlearn: 31989.1729780\ttotal: 3.11s\tremaining: 5.41s\n",
      "365:\tlearn: 31987.5470225\ttotal: 3.11s\tremaining: 5.39s\n",
      "366:\tlearn: 31976.5676278\ttotal: 3.12s\tremaining: 5.39s\n",
      "367:\tlearn: 31970.2221667\ttotal: 3.13s\tremaining: 5.38s\n",
      "368:\tlearn: 31963.0669170\ttotal: 3.14s\tremaining: 5.37s\n",
      "369:\tlearn: 31961.5383580\ttotal: 3.15s\tremaining: 5.36s\n",
      "370:\tlearn: 31952.3326675\ttotal: 3.15s\tremaining: 5.35s\n",
      "371:\tlearn: 31945.0248816\ttotal: 3.16s\tremaining: 5.34s\n",
      "372:\tlearn: 31930.1166011\ttotal: 3.17s\tremaining: 5.33s\n",
      "373:\tlearn: 31915.9219358\ttotal: 3.18s\tremaining: 5.32s\n",
      "374:\tlearn: 31902.6602720\ttotal: 3.18s\tremaining: 5.31s\n",
      "375:\tlearn: 31893.9136382\ttotal: 3.19s\tremaining: 5.3s\n",
      "376:\tlearn: 31879.5586027\ttotal: 3.2s\tremaining: 5.29s\n",
      "377:\tlearn: 31872.9861182\ttotal: 3.21s\tremaining: 5.28s\n",
      "378:\tlearn: 31860.0020406\ttotal: 3.21s\tremaining: 5.27s\n",
      "379:\tlearn: 31856.2266340\ttotal: 3.22s\tremaining: 5.25s\n",
      "380:\tlearn: 31847.1377796\ttotal: 3.23s\tremaining: 5.24s\n",
      "381:\tlearn: 31840.5654116\ttotal: 3.24s\tremaining: 5.24s\n",
      "382:\tlearn: 31827.8055681\ttotal: 3.25s\tremaining: 5.23s\n",
      "383:\tlearn: 31823.9921010\ttotal: 3.26s\tremaining: 5.22s\n",
      "384:\tlearn: 31818.6907751\ttotal: 3.27s\tremaining: 5.22s\n",
      "385:\tlearn: 31815.3718447\ttotal: 3.27s\tremaining: 5.21s\n",
      "386:\tlearn: 31808.2250877\ttotal: 3.28s\tremaining: 5.2s\n",
      "387:\tlearn: 31800.2617521\ttotal: 3.29s\tremaining: 5.18s\n",
      "388:\tlearn: 31797.1343418\ttotal: 3.29s\tremaining: 5.17s\n",
      "389:\tlearn: 31780.6008498\ttotal: 3.3s\tremaining: 5.16s\n",
      "390:\tlearn: 31761.9698611\ttotal: 3.31s\tremaining: 5.15s\n",
      "391:\tlearn: 31746.7848495\ttotal: 3.32s\tremaining: 5.14s\n",
      "392:\tlearn: 31734.1757510\ttotal: 3.32s\tremaining: 5.13s\n",
      "393:\tlearn: 31724.7490527\ttotal: 3.33s\tremaining: 5.13s\n",
      "394:\tlearn: 31706.0481035\ttotal: 3.34s\tremaining: 5.12s\n",
      "395:\tlearn: 31702.8235683\ttotal: 3.35s\tremaining: 5.11s\n",
      "396:\tlearn: 31700.1094005\ttotal: 3.36s\tremaining: 5.1s\n",
      "397:\tlearn: 31693.4325623\ttotal: 3.37s\tremaining: 5.09s\n",
      "398:\tlearn: 31690.9930733\ttotal: 3.37s\tremaining: 5.08s\n",
      "399:\tlearn: 31682.4974194\ttotal: 3.38s\tremaining: 5.08s\n",
      "400:\tlearn: 31669.6288552\ttotal: 3.4s\tremaining: 5.07s\n",
      "401:\tlearn: 31661.9464611\ttotal: 3.4s\tremaining: 5.06s\n",
      "402:\tlearn: 31654.2552907\ttotal: 3.42s\tremaining: 5.06s\n",
      "403:\tlearn: 31644.2432352\ttotal: 3.43s\tremaining: 5.05s\n",
      "404:\tlearn: 31628.5945179\ttotal: 3.43s\tremaining: 5.05s\n",
      "405:\tlearn: 31617.4754860\ttotal: 3.45s\tremaining: 5.04s\n",
      "406:\tlearn: 31590.4808822\ttotal: 3.46s\tremaining: 5.04s\n",
      "407:\tlearn: 31584.7965870\ttotal: 3.47s\tremaining: 5.03s\n",
      "408:\tlearn: 31571.8753813\ttotal: 3.48s\tremaining: 5.03s\n",
      "409:\tlearn: 31562.8062357\ttotal: 3.49s\tremaining: 5.02s\n",
      "410:\tlearn: 31551.3708970\ttotal: 3.5s\tremaining: 5.01s\n",
      "411:\tlearn: 31540.6718988\ttotal: 3.51s\tremaining: 5.01s\n",
      "412:\tlearn: 31514.7590288\ttotal: 3.52s\tremaining: 5s\n",
      "413:\tlearn: 31501.3672023\ttotal: 3.53s\tremaining: 4.99s\n",
      "414:\tlearn: 31492.6049056\ttotal: 3.53s\tremaining: 4.98s\n",
      "415:\tlearn: 31469.9767774\ttotal: 3.55s\tremaining: 4.98s\n",
      "416:\tlearn: 31462.9350480\ttotal: 3.55s\tremaining: 4.97s\n",
      "417:\tlearn: 31450.6141611\ttotal: 3.56s\tremaining: 4.96s\n",
      "418:\tlearn: 31438.8486152\ttotal: 3.57s\tremaining: 4.95s\n",
      "419:\tlearn: 31429.4275757\ttotal: 3.58s\tremaining: 4.95s\n",
      "420:\tlearn: 31419.2286758\ttotal: 3.59s\tremaining: 4.93s\n",
      "421:\tlearn: 31410.3389999\ttotal: 3.6s\tremaining: 4.93s\n",
      "422:\tlearn: 31399.1344338\ttotal: 3.6s\tremaining: 4.92s\n",
      "423:\tlearn: 31393.9195190\ttotal: 3.61s\tremaining: 4.91s\n",
      "424:\tlearn: 31379.9793963\ttotal: 3.62s\tremaining: 4.9s\n",
      "425:\tlearn: 31371.0386800\ttotal: 3.63s\tremaining: 4.89s\n",
      "426:\tlearn: 31360.5952759\ttotal: 3.63s\tremaining: 4.88s\n",
      "427:\tlearn: 31352.6534638\ttotal: 3.64s\tremaining: 4.87s\n",
      "428:\tlearn: 31345.3577745\ttotal: 3.65s\tremaining: 4.86s\n",
      "429:\tlearn: 31340.2456034\ttotal: 3.66s\tremaining: 4.85s\n",
      "430:\tlearn: 31333.1615984\ttotal: 3.67s\tremaining: 4.84s\n",
      "431:\tlearn: 31325.5139104\ttotal: 3.68s\tremaining: 4.84s\n",
      "432:\tlearn: 31321.3112856\ttotal: 3.68s\tremaining: 4.83s\n",
      "433:\tlearn: 31314.8627549\ttotal: 3.69s\tremaining: 4.82s\n",
      "434:\tlearn: 31304.2755654\ttotal: 3.7s\tremaining: 4.81s\n",
      "435:\tlearn: 31299.0278968\ttotal: 3.71s\tremaining: 4.8s\n",
      "436:\tlearn: 31282.7049108\ttotal: 3.72s\tremaining: 4.79s\n",
      "437:\tlearn: 31277.4616536\ttotal: 3.73s\tremaining: 4.78s\n",
      "438:\tlearn: 31267.0267959\ttotal: 3.73s\tremaining: 4.77s\n",
      "439:\tlearn: 31257.7423020\ttotal: 3.74s\tremaining: 4.76s\n",
      "440:\tlearn: 31252.4109935\ttotal: 3.75s\tremaining: 4.75s\n",
      "441:\tlearn: 31246.7310799\ttotal: 3.76s\tremaining: 4.75s\n",
      "442:\tlearn: 31240.0063745\ttotal: 3.77s\tremaining: 4.74s\n",
      "443:\tlearn: 31234.0711493\ttotal: 3.78s\tremaining: 4.73s\n",
      "444:\tlearn: 31222.0608196\ttotal: 3.78s\tremaining: 4.72s\n",
      "445:\tlearn: 31215.3549972\ttotal: 3.79s\tremaining: 4.71s\n",
      "446:\tlearn: 31208.8843144\ttotal: 3.8s\tremaining: 4.7s\n",
      "447:\tlearn: 31192.6154282\ttotal: 3.81s\tremaining: 4.69s\n",
      "448:\tlearn: 31188.0805521\ttotal: 3.82s\tremaining: 4.68s\n",
      "449:\tlearn: 31179.1750547\ttotal: 3.83s\tremaining: 4.67s\n",
      "450:\tlearn: 31171.4573596\ttotal: 3.83s\tremaining: 4.67s\n",
      "451:\tlearn: 31140.3889782\ttotal: 3.84s\tremaining: 4.66s\n",
      "452:\tlearn: 31130.2897300\ttotal: 3.85s\tremaining: 4.65s\n",
      "453:\tlearn: 31121.9980963\ttotal: 3.86s\tremaining: 4.64s\n",
      "454:\tlearn: 31118.6048071\ttotal: 3.87s\tremaining: 4.63s\n",
      "455:\tlearn: 31110.7348882\ttotal: 3.88s\tremaining: 4.63s\n",
      "456:\tlearn: 31093.4707777\ttotal: 3.89s\tremaining: 4.62s\n",
      "457:\tlearn: 31079.1853355\ttotal: 3.9s\tremaining: 4.62s\n",
      "458:\tlearn: 31064.3507707\ttotal: 3.91s\tremaining: 4.61s\n",
      "459:\tlearn: 31056.6920114\ttotal: 3.92s\tremaining: 4.6s\n",
      "460:\tlearn: 31026.7480405\ttotal: 3.93s\tremaining: 4.59s\n",
      "461:\tlearn: 31020.6272287\ttotal: 3.94s\tremaining: 4.58s\n",
      "462:\tlearn: 30988.8849052\ttotal: 3.94s\tremaining: 4.57s\n",
      "463:\tlearn: 30983.8428529\ttotal: 3.95s\tremaining: 4.57s\n",
      "464:\tlearn: 30974.1922039\ttotal: 3.96s\tremaining: 4.56s\n",
      "465:\tlearn: 30965.6241376\ttotal: 3.97s\tremaining: 4.55s\n",
      "466:\tlearn: 30961.8448790\ttotal: 3.98s\tremaining: 4.54s\n",
      "467:\tlearn: 30954.9763999\ttotal: 3.98s\tremaining: 4.53s\n",
      "468:\tlearn: 30947.8730256\ttotal: 3.99s\tremaining: 4.52s\n",
      "469:\tlearn: 30938.9117355\ttotal: 4s\tremaining: 4.51s\n",
      "470:\tlearn: 30931.4795692\ttotal: 4.01s\tremaining: 4.5s\n",
      "471:\tlearn: 30912.7321926\ttotal: 4.02s\tremaining: 4.49s\n",
      "472:\tlearn: 30904.2777795\ttotal: 4.03s\tremaining: 4.48s\n",
      "473:\tlearn: 30884.2790203\ttotal: 4.03s\tremaining: 4.47s\n",
      "474:\tlearn: 30876.8853549\ttotal: 4.04s\tremaining: 4.47s\n",
      "475:\tlearn: 30868.5127750\ttotal: 4.05s\tremaining: 4.46s\n",
      "476:\tlearn: 30861.9115269\ttotal: 4.06s\tremaining: 4.45s\n",
      "477:\tlearn: 30854.1623478\ttotal: 4.07s\tremaining: 4.44s\n",
      "478:\tlearn: 30845.7961974\ttotal: 4.08s\tremaining: 4.43s\n",
      "479:\tlearn: 30839.4132209\ttotal: 4.09s\tremaining: 4.43s\n",
      "480:\tlearn: 30835.3735834\ttotal: 4.09s\tremaining: 4.42s\n",
      "481:\tlearn: 30821.0208210\ttotal: 4.1s\tremaining: 4.41s\n",
      "482:\tlearn: 30807.5420303\ttotal: 4.11s\tremaining: 4.4s\n",
      "483:\tlearn: 30801.6308586\ttotal: 4.12s\tremaining: 4.39s\n",
      "484:\tlearn: 30791.1785385\ttotal: 4.13s\tremaining: 4.38s\n",
      "485:\tlearn: 30778.8146828\ttotal: 4.13s\tremaining: 4.37s\n",
      "486:\tlearn: 30771.0415356\ttotal: 4.14s\tremaining: 4.36s\n",
      "487:\tlearn: 30764.5719345\ttotal: 4.15s\tremaining: 4.35s\n",
      "488:\tlearn: 30750.4555212\ttotal: 4.16s\tremaining: 4.35s\n",
      "489:\tlearn: 30743.1229886\ttotal: 4.17s\tremaining: 4.34s\n",
      "490:\tlearn: 30738.1314957\ttotal: 4.17s\tremaining: 4.33s\n",
      "491:\tlearn: 30720.0401299\ttotal: 4.18s\tremaining: 4.32s\n",
      "492:\tlearn: 30706.1609537\ttotal: 4.19s\tremaining: 4.31s\n",
      "493:\tlearn: 30692.9095370\ttotal: 4.2s\tremaining: 4.3s\n",
      "494:\tlearn: 30676.0266315\ttotal: 4.2s\tremaining: 4.29s\n",
      "495:\tlearn: 30672.7496062\ttotal: 4.21s\tremaining: 4.28s\n",
      "496:\tlearn: 30667.3593906\ttotal: 4.22s\tremaining: 4.27s\n",
      "497:\tlearn: 30661.3201080\ttotal: 4.23s\tremaining: 4.26s\n",
      "498:\tlearn: 30650.8039494\ttotal: 4.24s\tremaining: 4.25s\n",
      "499:\tlearn: 30647.1809384\ttotal: 4.24s\tremaining: 4.24s\n",
      "500:\tlearn: 30640.2432825\ttotal: 4.25s\tremaining: 4.24s\n",
      "501:\tlearn: 30634.8487478\ttotal: 4.26s\tremaining: 4.23s\n",
      "502:\tlearn: 30629.3855511\ttotal: 4.27s\tremaining: 4.22s\n",
      "503:\tlearn: 30624.1423898\ttotal: 4.28s\tremaining: 4.21s\n",
      "504:\tlearn: 30620.1326507\ttotal: 4.29s\tremaining: 4.21s\n",
      "505:\tlearn: 30612.3061556\ttotal: 4.3s\tremaining: 4.2s\n",
      "506:\tlearn: 30598.0736321\ttotal: 4.31s\tremaining: 4.19s\n",
      "507:\tlearn: 30582.3260497\ttotal: 4.31s\tremaining: 4.18s\n",
      "508:\tlearn: 30579.8426795\ttotal: 4.32s\tremaining: 4.17s\n",
      "509:\tlearn: 30574.7928487\ttotal: 4.33s\tremaining: 4.16s\n",
      "510:\tlearn: 30548.1241240\ttotal: 4.34s\tremaining: 4.15s\n",
      "511:\tlearn: 30526.4843819\ttotal: 4.35s\tremaining: 4.14s\n",
      "512:\tlearn: 30511.4564657\ttotal: 4.35s\tremaining: 4.13s\n",
      "513:\tlearn: 30502.0155676\ttotal: 4.36s\tremaining: 4.13s\n",
      "514:\tlearn: 30490.0022059\ttotal: 4.37s\tremaining: 4.12s\n",
      "515:\tlearn: 30484.1247755\ttotal: 4.38s\tremaining: 4.11s\n",
      "516:\tlearn: 30476.4825339\ttotal: 4.39s\tremaining: 4.1s\n",
      "517:\tlearn: 30467.9512634\ttotal: 4.4s\tremaining: 4.1s\n",
      "518:\tlearn: 30460.6580553\ttotal: 4.41s\tremaining: 4.09s\n",
      "519:\tlearn: 30455.1105306\ttotal: 4.42s\tremaining: 4.08s\n",
      "520:\tlearn: 30452.3428944\ttotal: 4.43s\tremaining: 4.07s\n",
      "521:\tlearn: 30447.6821248\ttotal: 4.44s\tremaining: 4.07s\n",
      "522:\tlearn: 30427.6355433\ttotal: 4.45s\tremaining: 4.06s\n",
      "523:\tlearn: 30415.7650508\ttotal: 4.46s\tremaining: 4.05s\n",
      "524:\tlearn: 30408.8625808\ttotal: 4.47s\tremaining: 4.05s\n",
      "525:\tlearn: 30406.0833185\ttotal: 4.49s\tremaining: 4.04s\n",
      "526:\tlearn: 30399.3181704\ttotal: 4.5s\tremaining: 4.04s\n",
      "527:\tlearn: 30393.9109074\ttotal: 4.51s\tremaining: 4.03s\n",
      "528:\tlearn: 30385.5617402\ttotal: 4.52s\tremaining: 4.03s\n",
      "529:\tlearn: 30372.8406013\ttotal: 4.53s\tremaining: 4.02s\n",
      "530:\tlearn: 30363.1437740\ttotal: 4.54s\tremaining: 4.01s\n",
      "531:\tlearn: 30357.5201087\ttotal: 4.55s\tremaining: 4.01s\n",
      "532:\tlearn: 30352.9624699\ttotal: 4.57s\tremaining: 4s\n",
      "533:\tlearn: 30343.5736416\ttotal: 4.57s\tremaining: 3.99s\n",
      "534:\tlearn: 30332.8635074\ttotal: 4.59s\tremaining: 3.99s\n",
      "535:\tlearn: 30323.8891585\ttotal: 4.6s\tremaining: 3.98s\n",
      "536:\tlearn: 30318.4698279\ttotal: 4.61s\tremaining: 3.97s\n",
      "537:\tlearn: 30309.7459137\ttotal: 4.62s\tremaining: 3.96s\n",
      "538:\tlearn: 30299.8655271\ttotal: 4.62s\tremaining: 3.95s\n",
      "539:\tlearn: 30295.8456036\ttotal: 4.63s\tremaining: 3.95s\n",
      "540:\tlearn: 30291.2071156\ttotal: 4.64s\tremaining: 3.94s\n",
      "541:\tlearn: 30283.7171989\ttotal: 4.66s\tremaining: 3.93s\n",
      "542:\tlearn: 30280.1592561\ttotal: 4.67s\tremaining: 3.93s\n",
      "543:\tlearn: 30272.2939136\ttotal: 4.68s\tremaining: 3.92s\n",
      "544:\tlearn: 30267.3865745\ttotal: 4.69s\tremaining: 3.91s\n",
      "545:\tlearn: 30259.9954455\ttotal: 4.7s\tremaining: 3.91s\n",
      "546:\tlearn: 30246.5976319\ttotal: 4.71s\tremaining: 3.9s\n",
      "547:\tlearn: 30242.8386637\ttotal: 4.72s\tremaining: 3.9s\n",
      "548:\tlearn: 30239.4875817\ttotal: 4.73s\tremaining: 3.89s\n",
      "549:\tlearn: 30236.4939123\ttotal: 4.74s\tremaining: 3.88s\n",
      "550:\tlearn: 30231.6995748\ttotal: 4.75s\tremaining: 3.87s\n",
      "551:\tlearn: 30224.8040969\ttotal: 4.76s\tremaining: 3.87s\n",
      "552:\tlearn: 30215.9201049\ttotal: 4.77s\tremaining: 3.86s\n",
      "553:\tlearn: 30211.3352609\ttotal: 4.78s\tremaining: 3.85s\n",
      "554:\tlearn: 30203.6348209\ttotal: 4.79s\tremaining: 3.84s\n",
      "555:\tlearn: 30198.2677406\ttotal: 4.8s\tremaining: 3.84s\n",
      "556:\tlearn: 30193.0607150\ttotal: 4.82s\tremaining: 3.83s\n",
      "557:\tlearn: 30189.5895448\ttotal: 4.82s\tremaining: 3.82s\n",
      "558:\tlearn: 30184.6838301\ttotal: 4.83s\tremaining: 3.81s\n",
      "559:\tlearn: 30178.2237202\ttotal: 4.84s\tremaining: 3.8s\n",
      "560:\tlearn: 30174.5264058\ttotal: 4.85s\tremaining: 3.79s\n",
      "561:\tlearn: 30164.4396103\ttotal: 4.86s\tremaining: 3.79s\n",
      "562:\tlearn: 30147.0397342\ttotal: 4.87s\tremaining: 3.78s\n",
      "563:\tlearn: 30138.6483104\ttotal: 4.88s\tremaining: 3.77s\n",
      "564:\tlearn: 30135.5427347\ttotal: 4.89s\tremaining: 3.77s\n",
      "565:\tlearn: 30130.1570625\ttotal: 4.9s\tremaining: 3.76s\n",
      "566:\tlearn: 30123.1522672\ttotal: 4.91s\tremaining: 3.75s\n",
      "567:\tlearn: 30117.5089690\ttotal: 4.92s\tremaining: 3.74s\n",
      "568:\tlearn: 30114.4687385\ttotal: 4.93s\tremaining: 3.73s\n",
      "569:\tlearn: 30107.9514406\ttotal: 4.94s\tremaining: 3.72s\n",
      "570:\tlearn: 30102.1674461\ttotal: 4.95s\tremaining: 3.72s\n",
      "571:\tlearn: 30098.1599384\ttotal: 4.95s\tremaining: 3.71s\n",
      "572:\tlearn: 30094.1770411\ttotal: 4.96s\tremaining: 3.7s\n",
      "573:\tlearn: 30090.2453227\ttotal: 4.97s\tremaining: 3.69s\n",
      "574:\tlearn: 30084.9450915\ttotal: 4.98s\tremaining: 3.68s\n",
      "575:\tlearn: 30076.9444989\ttotal: 4.99s\tremaining: 3.67s\n",
      "576:\tlearn: 30072.3057677\ttotal: 5s\tremaining: 3.66s\n",
      "577:\tlearn: 30067.7444373\ttotal: 5s\tremaining: 3.65s\n",
      "578:\tlearn: 30056.5787072\ttotal: 5.01s\tremaining: 3.64s\n",
      "579:\tlearn: 30052.8458071\ttotal: 5.02s\tremaining: 3.63s\n",
      "580:\tlearn: 30048.7444125\ttotal: 5.02s\tremaining: 3.62s\n",
      "581:\tlearn: 30039.4365979\ttotal: 5.03s\tremaining: 3.61s\n",
      "582:\tlearn: 30015.7271289\ttotal: 5.04s\tremaining: 3.6s\n",
      "583:\tlearn: 30011.4606017\ttotal: 5.05s\tremaining: 3.6s\n",
      "584:\tlearn: 30003.9770382\ttotal: 5.05s\tremaining: 3.59s\n",
      "585:\tlearn: 29992.7214607\ttotal: 5.06s\tremaining: 3.58s\n",
      "586:\tlearn: 29987.4135526\ttotal: 5.07s\tremaining: 3.57s\n",
      "587:\tlearn: 29984.1722075\ttotal: 5.08s\tremaining: 3.56s\n",
      "588:\tlearn: 29979.3876159\ttotal: 5.09s\tremaining: 3.55s\n",
      "589:\tlearn: 29971.9492463\ttotal: 5.1s\tremaining: 3.54s\n",
      "590:\tlearn: 29967.2890288\ttotal: 5.11s\tremaining: 3.54s\n",
      "591:\tlearn: 29962.9525569\ttotal: 5.12s\tremaining: 3.53s\n",
      "592:\tlearn: 29958.9768779\ttotal: 5.13s\tremaining: 3.52s\n",
      "593:\tlearn: 29949.1896290\ttotal: 5.13s\tremaining: 3.51s\n",
      "594:\tlearn: 29940.9498913\ttotal: 5.14s\tremaining: 3.5s\n",
      "595:\tlearn: 29937.6443497\ttotal: 5.15s\tremaining: 3.49s\n",
      "596:\tlearn: 29928.1568437\ttotal: 5.16s\tremaining: 3.48s\n",
      "597:\tlearn: 29921.1886951\ttotal: 5.16s\tremaining: 3.47s\n",
      "598:\tlearn: 29918.2085351\ttotal: 5.17s\tremaining: 3.46s\n",
      "599:\tlearn: 29915.3925965\ttotal: 5.18s\tremaining: 3.45s\n",
      "600:\tlearn: 29910.7236052\ttotal: 5.18s\tremaining: 3.44s\n",
      "601:\tlearn: 29906.6772014\ttotal: 5.19s\tremaining: 3.43s\n",
      "602:\tlearn: 29902.8059212\ttotal: 5.2s\tremaining: 3.42s\n",
      "603:\tlearn: 29896.6601946\ttotal: 5.21s\tremaining: 3.41s\n",
      "604:\tlearn: 29893.7886403\ttotal: 5.21s\tremaining: 3.4s\n",
      "605:\tlearn: 29884.1585509\ttotal: 5.22s\tremaining: 3.4s\n",
      "606:\tlearn: 29874.8721727\ttotal: 5.23s\tremaining: 3.39s\n",
      "607:\tlearn: 29871.1123541\ttotal: 5.24s\tremaining: 3.38s\n",
      "608:\tlearn: 29864.9754156\ttotal: 5.25s\tremaining: 3.37s\n",
      "609:\tlearn: 29856.9575439\ttotal: 5.25s\tremaining: 3.36s\n",
      "610:\tlearn: 29843.0412057\ttotal: 5.26s\tremaining: 3.35s\n",
      "611:\tlearn: 29838.9773093\ttotal: 5.27s\tremaining: 3.34s\n",
      "612:\tlearn: 29835.3326594\ttotal: 5.28s\tremaining: 3.33s\n",
      "613:\tlearn: 29832.9219453\ttotal: 5.29s\tremaining: 3.32s\n",
      "614:\tlearn: 29824.1183563\ttotal: 5.3s\tremaining: 3.32s\n",
      "615:\tlearn: 29820.9356767\ttotal: 5.32s\tremaining: 3.31s\n",
      "616:\tlearn: 29816.5176868\ttotal: 5.35s\tremaining: 3.32s\n",
      "617:\tlearn: 29809.2803840\ttotal: 5.37s\tremaining: 3.32s\n",
      "618:\tlearn: 29805.7714807\ttotal: 5.38s\tremaining: 3.31s\n",
      "619:\tlearn: 29799.5195627\ttotal: 5.39s\tremaining: 3.31s\n",
      "620:\tlearn: 29797.1458952\ttotal: 5.4s\tremaining: 3.3s\n",
      "621:\tlearn: 29785.9730294\ttotal: 5.41s\tremaining: 3.29s\n",
      "622:\tlearn: 29780.1922735\ttotal: 5.42s\tremaining: 3.28s\n",
      "623:\tlearn: 29776.7871990\ttotal: 5.43s\tremaining: 3.27s\n",
      "624:\tlearn: 29773.4180382\ttotal: 5.44s\tremaining: 3.27s\n",
      "625:\tlearn: 29766.9092987\ttotal: 5.46s\tremaining: 3.26s\n",
      "626:\tlearn: 29755.2753236\ttotal: 5.47s\tremaining: 3.25s\n",
      "627:\tlearn: 29746.9872995\ttotal: 5.48s\tremaining: 3.25s\n",
      "628:\tlearn: 29743.2651510\ttotal: 5.49s\tremaining: 3.24s\n",
      "629:\tlearn: 29728.7664025\ttotal: 5.5s\tremaining: 3.23s\n",
      "630:\tlearn: 29725.5635878\ttotal: 5.51s\tremaining: 3.22s\n",
      "631:\tlearn: 29722.9905335\ttotal: 5.53s\tremaining: 3.22s\n",
      "632:\tlearn: 29720.1723373\ttotal: 5.53s\tremaining: 3.21s\n",
      "633:\tlearn: 29716.4051422\ttotal: 5.54s\tremaining: 3.2s\n",
      "634:\tlearn: 29711.1990189\ttotal: 5.55s\tremaining: 3.19s\n",
      "635:\tlearn: 29697.6112631\ttotal: 5.56s\tremaining: 3.18s\n",
      "636:\tlearn: 29690.1898475\ttotal: 5.57s\tremaining: 3.18s\n",
      "637:\tlearn: 29686.2233453\ttotal: 5.58s\tremaining: 3.17s\n",
      "638:\tlearn: 29682.8156595\ttotal: 5.59s\tremaining: 3.16s\n",
      "639:\tlearn: 29675.5649887\ttotal: 5.6s\tremaining: 3.15s\n",
      "640:\tlearn: 29672.3777457\ttotal: 5.61s\tremaining: 3.14s\n",
      "641:\tlearn: 29662.6517147\ttotal: 5.62s\tremaining: 3.13s\n",
      "642:\tlearn: 29656.2862090\ttotal: 5.63s\tremaining: 3.13s\n",
      "643:\tlearn: 29648.3355648\ttotal: 5.64s\tremaining: 3.12s\n",
      "644:\tlearn: 29646.2563944\ttotal: 5.64s\tremaining: 3.11s\n",
      "645:\tlearn: 29642.0303698\ttotal: 5.65s\tremaining: 3.1s\n",
      "646:\tlearn: 29637.9121204\ttotal: 5.66s\tremaining: 3.09s\n",
      "647:\tlearn: 29634.2264381\ttotal: 5.67s\tremaining: 3.08s\n",
      "648:\tlearn: 29627.3204046\ttotal: 5.68s\tremaining: 3.07s\n",
      "649:\tlearn: 29615.7395174\ttotal: 5.69s\tremaining: 3.06s\n",
      "650:\tlearn: 29608.0529993\ttotal: 5.7s\tremaining: 3.06s\n",
      "651:\tlearn: 29603.9843928\ttotal: 5.71s\tremaining: 3.05s\n",
      "652:\tlearn: 29600.8229259\ttotal: 5.72s\tremaining: 3.04s\n",
      "653:\tlearn: 29595.9236994\ttotal: 5.73s\tremaining: 3.03s\n",
      "654:\tlearn: 29585.8570569\ttotal: 5.74s\tremaining: 3.02s\n",
      "655:\tlearn: 29582.3963910\ttotal: 5.75s\tremaining: 3.01s\n",
      "656:\tlearn: 29578.7776987\ttotal: 5.75s\tremaining: 3s\n",
      "657:\tlearn: 29572.7633931\ttotal: 5.76s\tremaining: 2.99s\n",
      "658:\tlearn: 29566.7560171\ttotal: 5.77s\tremaining: 2.98s\n",
      "659:\tlearn: 29532.4902537\ttotal: 5.78s\tremaining: 2.98s\n",
      "660:\tlearn: 29525.3610052\ttotal: 5.78s\tremaining: 2.97s\n",
      "661:\tlearn: 29521.3454026\ttotal: 5.79s\tremaining: 2.96s\n",
      "662:\tlearn: 29515.6998047\ttotal: 5.8s\tremaining: 2.95s\n",
      "663:\tlearn: 29511.1790533\ttotal: 5.8s\tremaining: 2.94s\n",
      "664:\tlearn: 29508.6033640\ttotal: 5.81s\tremaining: 2.93s\n",
      "665:\tlearn: 29505.0654790\ttotal: 5.82s\tremaining: 2.92s\n",
      "666:\tlearn: 29498.7488935\ttotal: 5.83s\tremaining: 2.91s\n",
      "667:\tlearn: 29496.8598325\ttotal: 5.83s\tremaining: 2.9s\n",
      "668:\tlearn: 29491.4949928\ttotal: 5.84s\tremaining: 2.89s\n",
      "669:\tlearn: 29489.0644544\ttotal: 5.85s\tremaining: 2.88s\n",
      "670:\tlearn: 29485.0512489\ttotal: 5.86s\tremaining: 2.87s\n",
      "671:\tlearn: 29472.4389860\ttotal: 5.86s\tremaining: 2.86s\n",
      "672:\tlearn: 29466.3845051\ttotal: 5.87s\tremaining: 2.85s\n",
      "673:\tlearn: 29461.7510908\ttotal: 5.88s\tremaining: 2.84s\n",
      "674:\tlearn: 29453.7357793\ttotal: 5.89s\tremaining: 2.83s\n",
      "675:\tlearn: 29448.1098977\ttotal: 5.9s\tremaining: 2.83s\n",
      "676:\tlearn: 29446.5192645\ttotal: 5.9s\tremaining: 2.82s\n",
      "677:\tlearn: 29444.0928020\ttotal: 5.91s\tremaining: 2.81s\n",
      "678:\tlearn: 29440.4633557\ttotal: 5.92s\tremaining: 2.8s\n",
      "679:\tlearn: 29435.1701269\ttotal: 5.93s\tremaining: 2.79s\n",
      "680:\tlearn: 29429.2924797\ttotal: 5.94s\tremaining: 2.78s\n",
      "681:\tlearn: 29425.7366388\ttotal: 5.95s\tremaining: 2.77s\n",
      "682:\tlearn: 29419.5745814\ttotal: 5.96s\tremaining: 2.76s\n",
      "683:\tlearn: 29414.4553973\ttotal: 5.96s\tremaining: 2.75s\n",
      "684:\tlearn: 29413.0079171\ttotal: 5.97s\tremaining: 2.74s\n",
      "685:\tlearn: 29409.8265251\ttotal: 5.98s\tremaining: 2.73s\n",
      "686:\tlearn: 29404.1637136\ttotal: 5.99s\tremaining: 2.73s\n",
      "687:\tlearn: 29402.4724135\ttotal: 5.99s\tremaining: 2.72s\n",
      "688:\tlearn: 29397.9848966\ttotal: 6s\tremaining: 2.71s\n",
      "689:\tlearn: 29390.2351187\ttotal: 6.01s\tremaining: 2.7s\n",
      "690:\tlearn: 29384.6933307\ttotal: 6.02s\tremaining: 2.69s\n",
      "691:\tlearn: 29380.1005577\ttotal: 6.02s\tremaining: 2.68s\n",
      "692:\tlearn: 29375.4814150\ttotal: 6.03s\tremaining: 2.67s\n",
      "693:\tlearn: 29368.0758002\ttotal: 6.04s\tremaining: 2.66s\n",
      "694:\tlearn: 29361.6657809\ttotal: 6.05s\tremaining: 2.65s\n",
      "695:\tlearn: 29358.8103790\ttotal: 6.06s\tremaining: 2.65s\n",
      "696:\tlearn: 29355.2873657\ttotal: 6.07s\tremaining: 2.64s\n",
      "697:\tlearn: 29351.7092646\ttotal: 6.07s\tremaining: 2.63s\n",
      "698:\tlearn: 29348.8052558\ttotal: 6.08s\tremaining: 2.62s\n",
      "699:\tlearn: 29346.1103180\ttotal: 6.09s\tremaining: 2.61s\n",
      "700:\tlearn: 29331.8481323\ttotal: 6.1s\tremaining: 2.6s\n",
      "701:\tlearn: 29327.9761969\ttotal: 6.11s\tremaining: 2.59s\n",
      "702:\tlearn: 29322.1861574\ttotal: 6.12s\tremaining: 2.58s\n",
      "703:\tlearn: 29320.5776729\ttotal: 6.13s\tremaining: 2.58s\n",
      "704:\tlearn: 29317.0548568\ttotal: 6.14s\tremaining: 2.57s\n",
      "705:\tlearn: 29312.4971164\ttotal: 6.15s\tremaining: 2.56s\n",
      "706:\tlearn: 29291.3096654\ttotal: 6.16s\tremaining: 2.55s\n",
      "707:\tlearn: 29288.0188248\ttotal: 6.17s\tremaining: 2.54s\n",
      "708:\tlearn: 29282.8902693\ttotal: 6.18s\tremaining: 2.54s\n",
      "709:\tlearn: 29273.9963800\ttotal: 6.19s\tremaining: 2.53s\n",
      "710:\tlearn: 29271.6668935\ttotal: 6.2s\tremaining: 2.52s\n",
      "711:\tlearn: 29266.9508744\ttotal: 6.2s\tremaining: 2.51s\n",
      "712:\tlearn: 29263.3102539\ttotal: 6.22s\tremaining: 2.5s\n",
      "713:\tlearn: 29261.8257536\ttotal: 6.22s\tremaining: 2.49s\n",
      "714:\tlearn: 29258.7663253\ttotal: 6.24s\tremaining: 2.48s\n",
      "715:\tlearn: 29255.2241991\ttotal: 6.24s\tremaining: 2.48s\n",
      "716:\tlearn: 29247.7233695\ttotal: 6.25s\tremaining: 2.47s\n",
      "717:\tlearn: 29242.1947548\ttotal: 6.26s\tremaining: 2.46s\n",
      "718:\tlearn: 29236.3150051\ttotal: 6.27s\tremaining: 2.45s\n",
      "719:\tlearn: 29232.1241654\ttotal: 6.29s\tremaining: 2.44s\n",
      "720:\tlearn: 29229.3235007\ttotal: 6.3s\tremaining: 2.44s\n",
      "721:\tlearn: 29222.6155518\ttotal: 6.31s\tremaining: 2.43s\n",
      "722:\tlearn: 29218.6920564\ttotal: 6.32s\tremaining: 2.42s\n",
      "723:\tlearn: 29212.8513941\ttotal: 6.33s\tremaining: 2.41s\n",
      "724:\tlearn: 29207.8255022\ttotal: 6.34s\tremaining: 2.4s\n",
      "725:\tlearn: 29203.3562877\ttotal: 6.35s\tremaining: 2.4s\n",
      "726:\tlearn: 29186.9932173\ttotal: 6.37s\tremaining: 2.39s\n",
      "727:\tlearn: 29183.3277951\ttotal: 6.38s\tremaining: 2.38s\n",
      "728:\tlearn: 29178.2785351\ttotal: 6.39s\tremaining: 2.37s\n",
      "729:\tlearn: 29173.9854989\ttotal: 6.4s\tremaining: 2.37s\n",
      "730:\tlearn: 29169.2781039\ttotal: 6.41s\tremaining: 2.36s\n",
      "731:\tlearn: 29163.9911108\ttotal: 6.42s\tremaining: 2.35s\n",
      "732:\tlearn: 29153.9540360\ttotal: 6.43s\tremaining: 2.34s\n",
      "733:\tlearn: 29148.5567835\ttotal: 6.44s\tremaining: 2.33s\n",
      "734:\tlearn: 29145.6223947\ttotal: 6.45s\tremaining: 2.32s\n",
      "735:\tlearn: 29140.3576939\ttotal: 6.46s\tremaining: 2.31s\n",
      "736:\tlearn: 29129.4154915\ttotal: 6.47s\tremaining: 2.31s\n",
      "737:\tlearn: 29126.8378850\ttotal: 6.47s\tremaining: 2.3s\n",
      "738:\tlearn: 29121.5920299\ttotal: 6.48s\tremaining: 2.29s\n",
      "739:\tlearn: 29118.4276724\ttotal: 6.49s\tremaining: 2.28s\n",
      "740:\tlearn: 29112.2462615\ttotal: 6.5s\tremaining: 2.27s\n",
      "741:\tlearn: 29108.1299995\ttotal: 6.51s\tremaining: 2.27s\n",
      "742:\tlearn: 29106.2208972\ttotal: 6.53s\tremaining: 2.26s\n",
      "743:\tlearn: 29102.1889226\ttotal: 6.54s\tremaining: 2.25s\n",
      "744:\tlearn: 29097.5768889\ttotal: 6.55s\tremaining: 2.24s\n",
      "745:\tlearn: 29095.6109291\ttotal: 6.56s\tremaining: 2.23s\n",
      "746:\tlearn: 29091.5431414\ttotal: 6.57s\tremaining: 2.22s\n",
      "747:\tlearn: 29089.2433520\ttotal: 6.58s\tremaining: 2.22s\n",
      "748:\tlearn: 29083.5147651\ttotal: 6.58s\tremaining: 2.21s\n",
      "749:\tlearn: 29079.0677074\ttotal: 6.6s\tremaining: 2.2s\n",
      "750:\tlearn: 29074.8127915\ttotal: 6.6s\tremaining: 2.19s\n",
      "751:\tlearn: 29072.2381117\ttotal: 6.61s\tremaining: 2.18s\n",
      "752:\tlearn: 29065.0889573\ttotal: 6.62s\tremaining: 2.17s\n",
      "753:\tlearn: 29061.3724133\ttotal: 6.63s\tremaining: 2.16s\n",
      "754:\tlearn: 29057.4750607\ttotal: 6.64s\tremaining: 2.15s\n",
      "755:\tlearn: 29051.1752401\ttotal: 6.65s\tremaining: 2.15s\n",
      "756:\tlearn: 29046.4357565\ttotal: 6.66s\tremaining: 2.14s\n",
      "757:\tlearn: 29041.5557326\ttotal: 6.67s\tremaining: 2.13s\n",
      "758:\tlearn: 29025.0986503\ttotal: 6.68s\tremaining: 2.12s\n",
      "759:\tlearn: 29022.2375946\ttotal: 6.68s\tremaining: 2.11s\n",
      "760:\tlearn: 28993.7949249\ttotal: 6.7s\tremaining: 2.1s\n",
      "761:\tlearn: 28991.5750954\ttotal: 6.7s\tremaining: 2.09s\n",
      "762:\tlearn: 28988.0874266\ttotal: 6.72s\tremaining: 2.09s\n",
      "763:\tlearn: 28981.4183161\ttotal: 6.73s\tremaining: 2.08s\n",
      "764:\tlearn: 28977.1889462\ttotal: 6.74s\tremaining: 2.07s\n",
      "765:\tlearn: 28966.4595782\ttotal: 6.75s\tremaining: 2.06s\n",
      "766:\tlearn: 28964.0020749\ttotal: 6.76s\tremaining: 2.05s\n",
      "767:\tlearn: 28961.6785939\ttotal: 6.77s\tremaining: 2.04s\n",
      "768:\tlearn: 28959.3817711\ttotal: 6.78s\tremaining: 2.04s\n",
      "769:\tlearn: 28954.6326932\ttotal: 6.79s\tremaining: 2.03s\n",
      "770:\tlearn: 28951.7847104\ttotal: 6.79s\tremaining: 2.02s\n",
      "771:\tlearn: 28949.2250270\ttotal: 6.8s\tremaining: 2.01s\n",
      "772:\tlearn: 28947.7136077\ttotal: 6.81s\tremaining: 2s\n",
      "773:\tlearn: 28945.4698669\ttotal: 6.82s\tremaining: 1.99s\n",
      "774:\tlearn: 28941.8332333\ttotal: 6.83s\tremaining: 1.98s\n",
      "775:\tlearn: 28938.4740312\ttotal: 6.84s\tremaining: 1.97s\n",
      "776:\tlearn: 28934.3736640\ttotal: 6.84s\tremaining: 1.96s\n",
      "777:\tlearn: 28932.3005468\ttotal: 6.85s\tremaining: 1.96s\n",
      "778:\tlearn: 28926.9263763\ttotal: 6.86s\tremaining: 1.95s\n",
      "779:\tlearn: 28920.2447614\ttotal: 6.87s\tremaining: 1.94s\n",
      "780:\tlearn: 28911.1937458\ttotal: 6.88s\tremaining: 1.93s\n",
      "781:\tlearn: 28909.6970865\ttotal: 6.89s\tremaining: 1.92s\n",
      "782:\tlearn: 28908.3707114\ttotal: 6.9s\tremaining: 1.91s\n",
      "783:\tlearn: 28906.2852052\ttotal: 6.91s\tremaining: 1.9s\n",
      "784:\tlearn: 28900.5985226\ttotal: 6.92s\tremaining: 1.89s\n",
      "785:\tlearn: 28897.0413660\ttotal: 6.93s\tremaining: 1.89s\n",
      "786:\tlearn: 28892.9382521\ttotal: 6.94s\tremaining: 1.88s\n",
      "787:\tlearn: 28890.9923093\ttotal: 6.95s\tremaining: 1.87s\n",
      "788:\tlearn: 28885.0616709\ttotal: 6.96s\tremaining: 1.86s\n",
      "789:\tlearn: 28881.8242407\ttotal: 6.97s\tremaining: 1.85s\n",
      "790:\tlearn: 28874.4066026\ttotal: 6.98s\tremaining: 1.84s\n",
      "791:\tlearn: 28868.7075421\ttotal: 6.98s\tremaining: 1.83s\n",
      "792:\tlearn: 28865.0326249\ttotal: 6.99s\tremaining: 1.82s\n",
      "793:\tlearn: 28861.4166223\ttotal: 7s\tremaining: 1.81s\n",
      "794:\tlearn: 28859.0820595\ttotal: 7.01s\tremaining: 1.81s\n",
      "795:\tlearn: 28852.3834851\ttotal: 7.01s\tremaining: 1.8s\n",
      "796:\tlearn: 28849.4655564\ttotal: 7.02s\tremaining: 1.79s\n",
      "797:\tlearn: 28841.7341988\ttotal: 7.03s\tremaining: 1.78s\n",
      "798:\tlearn: 28839.2959254\ttotal: 7.04s\tremaining: 1.77s\n",
      "799:\tlearn: 28835.3909678\ttotal: 7.04s\tremaining: 1.76s\n",
      "800:\tlearn: 28832.8749464\ttotal: 7.05s\tremaining: 1.75s\n",
      "801:\tlearn: 28831.2985834\ttotal: 7.06s\tremaining: 1.74s\n",
      "802:\tlearn: 28828.8932840\ttotal: 7.07s\tremaining: 1.73s\n",
      "803:\tlearn: 28825.0591992\ttotal: 7.08s\tremaining: 1.72s\n",
      "804:\tlearn: 28822.7392449\ttotal: 7.08s\tremaining: 1.72s\n",
      "805:\tlearn: 28821.3159906\ttotal: 7.09s\tremaining: 1.71s\n",
      "806:\tlearn: 28811.1927102\ttotal: 7.1s\tremaining: 1.7s\n",
      "807:\tlearn: 28804.0546982\ttotal: 7.11s\tremaining: 1.69s\n",
      "808:\tlearn: 28801.7487009\ttotal: 7.12s\tremaining: 1.68s\n",
      "809:\tlearn: 28800.7389704\ttotal: 7.13s\tremaining: 1.67s\n",
      "810:\tlearn: 28795.1821603\ttotal: 7.14s\tremaining: 1.66s\n",
      "811:\tlearn: 28792.3614821\ttotal: 7.15s\tremaining: 1.65s\n",
      "812:\tlearn: 28773.2753297\ttotal: 7.17s\tremaining: 1.65s\n",
      "813:\tlearn: 28771.5299170\ttotal: 7.2s\tremaining: 1.64s\n",
      "814:\tlearn: 28766.4720621\ttotal: 7.21s\tremaining: 1.64s\n",
      "815:\tlearn: 28761.3000286\ttotal: 7.24s\tremaining: 1.63s\n",
      "816:\tlearn: 28755.4672459\ttotal: 7.25s\tremaining: 1.62s\n",
      "817:\tlearn: 28751.2532022\ttotal: 7.25s\tremaining: 1.61s\n",
      "818:\tlearn: 28731.6188907\ttotal: 7.26s\tremaining: 1.6s\n",
      "819:\tlearn: 28725.3090943\ttotal: 7.27s\tremaining: 1.6s\n",
      "820:\tlearn: 28722.3920654\ttotal: 7.28s\tremaining: 1.59s\n",
      "821:\tlearn: 28708.9187364\ttotal: 7.29s\tremaining: 1.58s\n",
      "822:\tlearn: 28707.7001748\ttotal: 7.3s\tremaining: 1.57s\n",
      "823:\tlearn: 28702.0451020\ttotal: 7.31s\tremaining: 1.56s\n",
      "824:\tlearn: 28697.3702551\ttotal: 7.31s\tremaining: 1.55s\n",
      "825:\tlearn: 28691.4598816\ttotal: 7.32s\tremaining: 1.54s\n",
      "826:\tlearn: 28688.9048373\ttotal: 7.33s\tremaining: 1.53s\n",
      "827:\tlearn: 28684.5433925\ttotal: 7.34s\tremaining: 1.52s\n",
      "828:\tlearn: 28681.7878505\ttotal: 7.35s\tremaining: 1.52s\n",
      "829:\tlearn: 28679.3897618\ttotal: 7.36s\tremaining: 1.51s\n",
      "830:\tlearn: 28675.1004240\ttotal: 7.37s\tremaining: 1.5s\n",
      "831:\tlearn: 28671.1456242\ttotal: 7.38s\tremaining: 1.49s\n",
      "832:\tlearn: 28647.6389615\ttotal: 7.39s\tremaining: 1.48s\n",
      "833:\tlearn: 28644.3352095\ttotal: 7.39s\tremaining: 1.47s\n",
      "834:\tlearn: 28640.8448536\ttotal: 7.4s\tremaining: 1.46s\n",
      "835:\tlearn: 28637.0459521\ttotal: 7.41s\tremaining: 1.45s\n",
      "836:\tlearn: 28635.8514639\ttotal: 7.42s\tremaining: 1.44s\n",
      "837:\tlearn: 28633.9274769\ttotal: 7.43s\tremaining: 1.44s\n",
      "838:\tlearn: 28629.5441422\ttotal: 7.43s\tremaining: 1.43s\n",
      "839:\tlearn: 28626.9066834\ttotal: 7.44s\tremaining: 1.42s\n",
      "840:\tlearn: 28623.0297441\ttotal: 7.45s\tremaining: 1.41s\n",
      "841:\tlearn: 28614.3463545\ttotal: 7.46s\tremaining: 1.4s\n",
      "842:\tlearn: 28604.6882091\ttotal: 7.47s\tremaining: 1.39s\n",
      "843:\tlearn: 28599.0520051\ttotal: 7.47s\tremaining: 1.38s\n",
      "844:\tlearn: 28598.8697749\ttotal: 7.48s\tremaining: 1.37s\n",
      "845:\tlearn: 28597.6933349\ttotal: 7.49s\tremaining: 1.36s\n",
      "846:\tlearn: 28592.1875947\ttotal: 7.5s\tremaining: 1.35s\n",
      "847:\tlearn: 28577.7928175\ttotal: 7.5s\tremaining: 1.34s\n",
      "848:\tlearn: 28575.9802971\ttotal: 7.51s\tremaining: 1.34s\n",
      "849:\tlearn: 28572.2946040\ttotal: 7.52s\tremaining: 1.33s\n",
      "850:\tlearn: 28567.1558552\ttotal: 7.53s\tremaining: 1.32s\n",
      "851:\tlearn: 28563.4445671\ttotal: 7.54s\tremaining: 1.31s\n",
      "852:\tlearn: 28559.5654510\ttotal: 7.55s\tremaining: 1.3s\n",
      "853:\tlearn: 28555.2843555\ttotal: 7.56s\tremaining: 1.29s\n",
      "854:\tlearn: 28550.2312736\ttotal: 7.57s\tremaining: 1.28s\n",
      "855:\tlearn: 28550.0644625\ttotal: 7.58s\tremaining: 1.27s\n",
      "856:\tlearn: 28549.9066278\ttotal: 7.58s\tremaining: 1.26s\n",
      "857:\tlearn: 28543.4998870\ttotal: 7.59s\tremaining: 1.26s\n",
      "858:\tlearn: 28537.4327181\ttotal: 7.6s\tremaining: 1.25s\n",
      "859:\tlearn: 28534.1467703\ttotal: 7.61s\tremaining: 1.24s\n",
      "860:\tlearn: 28528.6047684\ttotal: 7.62s\tremaining: 1.23s\n",
      "861:\tlearn: 28526.4597219\ttotal: 7.63s\tremaining: 1.22s\n",
      "862:\tlearn: 28521.6350475\ttotal: 7.63s\tremaining: 1.21s\n",
      "863:\tlearn: 28518.4703182\ttotal: 7.64s\tremaining: 1.2s\n",
      "864:\tlearn: 28514.0739983\ttotal: 7.65s\tremaining: 1.19s\n",
      "865:\tlearn: 28510.4456488\ttotal: 7.66s\tremaining: 1.19s\n",
      "866:\tlearn: 28506.6635396\ttotal: 7.67s\tremaining: 1.18s\n",
      "867:\tlearn: 28502.7726442\ttotal: 7.68s\tremaining: 1.17s\n",
      "868:\tlearn: 28499.7202611\ttotal: 7.69s\tremaining: 1.16s\n",
      "869:\tlearn: 28497.9417835\ttotal: 7.7s\tremaining: 1.15s\n",
      "870:\tlearn: 28494.5223849\ttotal: 7.71s\tremaining: 1.14s\n",
      "871:\tlearn: 28491.7672267\ttotal: 7.71s\tremaining: 1.13s\n",
      "872:\tlearn: 28483.9898792\ttotal: 7.72s\tremaining: 1.12s\n",
      "873:\tlearn: 28480.4284585\ttotal: 7.73s\tremaining: 1.11s\n",
      "874:\tlearn: 28478.5984042\ttotal: 7.74s\tremaining: 1.1s\n",
      "875:\tlearn: 28476.5738058\ttotal: 7.75s\tremaining: 1.1s\n",
      "876:\tlearn: 28470.7890774\ttotal: 7.76s\tremaining: 1.09s\n",
      "877:\tlearn: 28468.4576599\ttotal: 7.77s\tremaining: 1.08s\n",
      "878:\tlearn: 28465.4289428\ttotal: 7.78s\tremaining: 1.07s\n",
      "879:\tlearn: 28457.3153244\ttotal: 7.79s\tremaining: 1.06s\n",
      "880:\tlearn: 28455.2179531\ttotal: 7.8s\tremaining: 1.05s\n",
      "881:\tlearn: 28451.8083142\ttotal: 7.81s\tremaining: 1.04s\n",
      "882:\tlearn: 28447.4226086\ttotal: 7.82s\tremaining: 1.03s\n",
      "883:\tlearn: 28442.2481306\ttotal: 7.82s\tremaining: 1.03s\n",
      "884:\tlearn: 28438.0203971\ttotal: 7.83s\tremaining: 1.02s\n",
      "885:\tlearn: 28433.2884165\ttotal: 7.84s\tremaining: 1.01s\n",
      "886:\tlearn: 28425.9399320\ttotal: 7.85s\tremaining: 1000ms\n",
      "887:\tlearn: 28422.4776893\ttotal: 7.85s\tremaining: 991ms\n",
      "888:\tlearn: 28419.8800972\ttotal: 7.86s\tremaining: 982ms\n",
      "889:\tlearn: 28415.7771148\ttotal: 7.87s\tremaining: 973ms\n",
      "890:\tlearn: 28413.8767140\ttotal: 7.88s\tremaining: 964ms\n",
      "891:\tlearn: 28410.9003620\ttotal: 7.88s\tremaining: 955ms\n",
      "892:\tlearn: 28403.8881678\ttotal: 7.89s\tremaining: 946ms\n",
      "893:\tlearn: 28398.2487191\ttotal: 7.9s\tremaining: 937ms\n",
      "894:\tlearn: 28396.5956140\ttotal: 7.91s\tremaining: 928ms\n",
      "895:\tlearn: 28395.2720800\ttotal: 7.91s\tremaining: 919ms\n",
      "896:\tlearn: 28391.9902231\ttotal: 7.92s\tremaining: 909ms\n",
      "897:\tlearn: 28387.2298989\ttotal: 7.93s\tremaining: 901ms\n",
      "898:\tlearn: 28384.4589426\ttotal: 7.93s\tremaining: 892ms\n",
      "899:\tlearn: 28382.9171951\ttotal: 7.94s\tremaining: 883ms\n",
      "900:\tlearn: 28377.5564271\ttotal: 7.96s\tremaining: 874ms\n",
      "901:\tlearn: 28371.7245517\ttotal: 7.96s\tremaining: 865ms\n",
      "902:\tlearn: 28368.5139523\ttotal: 7.97s\tremaining: 856ms\n",
      "903:\tlearn: 28362.7994035\ttotal: 7.98s\tremaining: 848ms\n",
      "904:\tlearn: 28356.8032505\ttotal: 7.99s\tremaining: 839ms\n",
      "905:\tlearn: 28351.6768677\ttotal: 8s\tremaining: 830ms\n",
      "906:\tlearn: 28350.1361943\ttotal: 8.01s\tremaining: 821ms\n",
      "907:\tlearn: 28346.2025645\ttotal: 8.02s\tremaining: 812ms\n",
      "908:\tlearn: 28344.2773166\ttotal: 8.02s\tremaining: 803ms\n",
      "909:\tlearn: 28341.8232789\ttotal: 8.03s\tremaining: 794ms\n",
      "910:\tlearn: 28337.5114281\ttotal: 8.04s\tremaining: 785ms\n",
      "911:\tlearn: 28334.3586239\ttotal: 8.05s\tremaining: 776ms\n",
      "912:\tlearn: 28331.6122822\ttotal: 8.05s\tremaining: 768ms\n",
      "913:\tlearn: 28326.2428758\ttotal: 8.06s\tremaining: 759ms\n",
      "914:\tlearn: 28321.6796258\ttotal: 8.07s\tremaining: 750ms\n",
      "915:\tlearn: 28315.8354580\ttotal: 8.08s\tremaining: 741ms\n",
      "916:\tlearn: 28314.4194257\ttotal: 8.08s\tremaining: 732ms\n",
      "917:\tlearn: 28310.2576400\ttotal: 8.09s\tremaining: 723ms\n",
      "918:\tlearn: 28308.2795974\ttotal: 8.1s\tremaining: 714ms\n",
      "919:\tlearn: 28306.8304585\ttotal: 8.1s\tremaining: 705ms\n",
      "920:\tlearn: 28302.2589737\ttotal: 8.11s\tremaining: 696ms\n",
      "921:\tlearn: 28298.7411847\ttotal: 8.12s\tremaining: 687ms\n",
      "922:\tlearn: 28295.2695033\ttotal: 8.13s\tremaining: 678ms\n",
      "923:\tlearn: 28291.4333520\ttotal: 8.13s\tremaining: 669ms\n",
      "924:\tlearn: 28290.5087996\ttotal: 8.14s\tremaining: 660ms\n",
      "925:\tlearn: 28277.5052846\ttotal: 8.15s\tremaining: 651ms\n",
      "926:\tlearn: 28272.9481456\ttotal: 8.16s\tremaining: 643ms\n",
      "927:\tlearn: 28272.8077515\ttotal: 8.17s\tremaining: 634ms\n",
      "928:\tlearn: 28266.1467358\ttotal: 8.18s\tremaining: 625ms\n",
      "929:\tlearn: 28260.7543505\ttotal: 8.19s\tremaining: 616ms\n",
      "930:\tlearn: 28256.9356344\ttotal: 8.2s\tremaining: 608ms\n",
      "931:\tlearn: 28242.2427508\ttotal: 8.21s\tremaining: 599ms\n",
      "932:\tlearn: 28237.2514179\ttotal: 8.22s\tremaining: 590ms\n",
      "933:\tlearn: 28232.6426293\ttotal: 8.23s\tremaining: 581ms\n",
      "934:\tlearn: 28229.7887119\ttotal: 8.23s\tremaining: 572ms\n",
      "935:\tlearn: 28225.1774498\ttotal: 8.24s\tremaining: 564ms\n",
      "936:\tlearn: 28221.3479343\ttotal: 8.25s\tremaining: 555ms\n",
      "937:\tlearn: 28219.3174386\ttotal: 8.26s\tremaining: 546ms\n",
      "938:\tlearn: 28212.2708044\ttotal: 8.26s\tremaining: 537ms\n",
      "939:\tlearn: 28211.1588833\ttotal: 8.27s\tremaining: 528ms\n",
      "940:\tlearn: 28198.5522133\ttotal: 8.28s\tremaining: 519ms\n",
      "941:\tlearn: 28191.2545342\ttotal: 8.29s\tremaining: 510ms\n",
      "942:\tlearn: 28183.4553176\ttotal: 8.29s\tremaining: 501ms\n",
      "943:\tlearn: 28183.1065837\ttotal: 8.3s\tremaining: 492ms\n",
      "944:\tlearn: 28180.6874982\ttotal: 8.31s\tremaining: 484ms\n",
      "945:\tlearn: 28176.7586235\ttotal: 8.31s\tremaining: 475ms\n",
      "946:\tlearn: 28173.8211093\ttotal: 8.32s\tremaining: 466ms\n",
      "947:\tlearn: 28171.9153724\ttotal: 8.33s\tremaining: 457ms\n",
      "948:\tlearn: 28170.1917877\ttotal: 8.34s\tremaining: 448ms\n",
      "949:\tlearn: 28168.4748250\ttotal: 8.35s\tremaining: 439ms\n",
      "950:\tlearn: 28168.3330714\ttotal: 8.35s\tremaining: 430ms\n",
      "951:\tlearn: 28165.9396017\ttotal: 8.36s\tremaining: 422ms\n",
      "952:\tlearn: 28163.6293580\ttotal: 8.37s\tremaining: 413ms\n",
      "953:\tlearn: 28161.9163242\ttotal: 8.38s\tremaining: 404ms\n",
      "954:\tlearn: 28159.1518791\ttotal: 8.39s\tremaining: 395ms\n",
      "955:\tlearn: 28155.7331109\ttotal: 8.4s\tremaining: 387ms\n",
      "956:\tlearn: 28145.9106816\ttotal: 8.41s\tremaining: 378ms\n",
      "957:\tlearn: 28143.6767542\ttotal: 8.41s\tremaining: 369ms\n",
      "958:\tlearn: 28138.2860357\ttotal: 8.42s\tremaining: 360ms\n",
      "959:\tlearn: 28127.3947251\ttotal: 8.43s\tremaining: 351ms\n",
      "960:\tlearn: 28125.2513341\ttotal: 8.44s\tremaining: 342ms\n",
      "961:\tlearn: 28120.9513498\ttotal: 8.45s\tremaining: 334ms\n",
      "962:\tlearn: 28117.4695975\ttotal: 8.45s\tremaining: 325ms\n",
      "963:\tlearn: 28115.5854828\ttotal: 8.46s\tremaining: 316ms\n",
      "964:\tlearn: 28109.3394468\ttotal: 8.47s\tremaining: 307ms\n",
      "965:\tlearn: 28107.6656654\ttotal: 8.47s\tremaining: 298ms\n",
      "966:\tlearn: 28105.3934787\ttotal: 8.48s\tremaining: 290ms\n",
      "967:\tlearn: 28102.6031920\ttotal: 8.5s\tremaining: 281ms\n",
      "968:\tlearn: 28099.2638339\ttotal: 8.51s\tremaining: 272ms\n",
      "969:\tlearn: 28094.9320466\ttotal: 8.52s\tremaining: 263ms\n",
      "970:\tlearn: 28090.0931678\ttotal: 8.53s\tremaining: 255ms\n",
      "971:\tlearn: 28085.3145401\ttotal: 8.54s\tremaining: 246ms\n",
      "972:\tlearn: 28083.1526379\ttotal: 8.55s\tremaining: 237ms\n",
      "973:\tlearn: 28078.8712167\ttotal: 8.56s\tremaining: 228ms\n",
      "974:\tlearn: 28070.4865830\ttotal: 8.57s\tremaining: 220ms\n",
      "975:\tlearn: 28060.9750668\ttotal: 8.58s\tremaining: 211ms\n",
      "976:\tlearn: 28055.2258429\ttotal: 8.59s\tremaining: 202ms\n",
      "977:\tlearn: 28050.9815994\ttotal: 8.6s\tremaining: 193ms\n",
      "978:\tlearn: 28045.9935134\ttotal: 8.6s\tremaining: 185ms\n",
      "979:\tlearn: 28040.6719908\ttotal: 8.61s\tremaining: 176ms\n",
      "980:\tlearn: 28037.3340147\ttotal: 8.62s\tremaining: 167ms\n",
      "981:\tlearn: 28035.6915218\ttotal: 8.63s\tremaining: 158ms\n",
      "982:\tlearn: 28030.0481297\ttotal: 8.63s\tremaining: 149ms\n",
      "983:\tlearn: 28023.1851815\ttotal: 8.64s\tremaining: 141ms\n",
      "984:\tlearn: 28015.5491048\ttotal: 8.65s\tremaining: 132ms\n",
      "985:\tlearn: 28010.3984137\ttotal: 8.66s\tremaining: 123ms\n",
      "986:\tlearn: 28008.9535699\ttotal: 8.67s\tremaining: 114ms\n",
      "987:\tlearn: 28005.5092174\ttotal: 8.68s\tremaining: 105ms\n",
      "988:\tlearn: 27999.9681789\ttotal: 8.69s\tremaining: 96.6ms\n",
      "989:\tlearn: 27998.1010996\ttotal: 8.69s\tremaining: 87.8ms\n",
      "990:\tlearn: 27993.5195582\ttotal: 8.7s\tremaining: 79ms\n",
      "991:\tlearn: 27991.1099262\ttotal: 8.71s\tremaining: 70.2ms\n",
      "992:\tlearn: 27986.0304213\ttotal: 8.71s\tremaining: 61.4ms\n",
      "993:\tlearn: 27984.5545266\ttotal: 8.72s\tremaining: 52.7ms\n",
      "994:\tlearn: 27977.7492014\ttotal: 8.73s\tremaining: 43.9ms\n",
      "995:\tlearn: 27974.8698029\ttotal: 8.74s\tremaining: 35.1ms\n",
      "996:\tlearn: 27962.3946466\ttotal: 8.74s\tremaining: 26.3ms\n",
      "997:\tlearn: 27951.5604979\ttotal: 8.76s\tremaining: 17.6ms\n",
      "998:\tlearn: 27949.0603845\ttotal: 8.77s\tremaining: 8.78ms\n",
      "999:\tlearn: 27937.8891520\ttotal: 8.78s\tremaining: 0us\n"
     ]
    },
    {
     "name": "stderr",
     "output_type": "stream",
     "text": [
      "/home/anant/.local/lib/python3.10/site-packages/xgboost/data.py:335: FutureWarning: is_sparse is deprecated and will be removed in a future version. Check `isinstance(dtype, pd.SparseDtype)` instead.\n",
      "  if is_sparse(dtype):\n",
      "/home/anant/.local/lib/python3.10/site-packages/xgboost/data.py:338: FutureWarning: is_categorical_dtype is deprecated and will be removed in a future version. Use isinstance(dtype, CategoricalDtype) instead\n",
      "  is_categorical_dtype(dtype) or is_pa_ext_categorical_dtype(dtype)\n",
      "/home/anant/.local/lib/python3.10/site-packages/xgboost/data.py:384: FutureWarning: is_categorical_dtype is deprecated and will be removed in a future version. Use isinstance(dtype, CategoricalDtype) instead\n",
      "  if is_categorical_dtype(dtype):\n",
      "/home/anant/.local/lib/python3.10/site-packages/xgboost/data.py:359: FutureWarning: is_categorical_dtype is deprecated and will be removed in a future version. Use isinstance(dtype, CategoricalDtype) instead\n",
      "  return is_int or is_bool or is_float or is_categorical_dtype(dtype)\n",
      "/home/anant/.local/lib/python3.10/site-packages/xgboost/data.py:520: FutureWarning: is_sparse is deprecated and will be removed in a future version. Check `isinstance(dtype, pd.SparseDtype)` instead.\n",
      "  if is_sparse(data):\n"
     ]
    }
   ],
   "source": [
    "# reference variable\n",
    "linear_regression = linear_regression_model()\n",
    "decision_tree = decision_tree_model()\n",
    "catboost = catBoost_model()\n",
    "xgboost = xgBoost_model()"
   ]
  },
  {
   "cell_type": "markdown",
   "id": "85fe8d82",
   "metadata": {},
   "source": [
    "## Model Evaluation"
   ]
  },
  {
   "cell_type": "code",
   "execution_count": 41,
   "id": "a495db11-d528-43e0-ba29-11205042315b",
   "metadata": {},
   "outputs": [],
   "source": [
    "def model_evaluation(model):\n",
    "    from sklearn.metrics import mean_absolute_error,mean_squared_error,r2_score\n",
    "    \n",
    "    y_true = Y_test\n",
    "    y_pred = model.predict(X_test)\n",
    "    print(f\"Mean Absolute Error = {mean_absolute_error(y_true,y_pred):.2f}\")\n",
    "    print(f\"Mean Squared Error = {mean_squared_error(y_true,y_pred):.2f}\")\n",
    "    print(f\"R2 Square = {r2_score(y_true,y_pred)*100:.2f}%\")\n",
    "    "
   ]
  },
  {
   "cell_type": "code",
   "execution_count": 46,
   "id": "259ecca9",
   "metadata": {},
   "outputs": [
    {
     "name": "stdout",
     "output_type": "stream",
     "text": [
      "Mean Absolute Error = 27258.99\n",
      "Mean Squared Error = 3370918559.50\n",
      "R2 Square = 60.78%\n"
     ]
    }
   ],
   "source": [
    "model_evaluation(linear_regression)"
   ]
  },
  {
   "cell_type": "code",
   "execution_count": 45,
   "id": "abbfd0b2",
   "metadata": {},
   "outputs": [
    {
     "name": "stdout",
     "output_type": "stream",
     "text": [
      "Mean Absolute Error = 8893.45\n",
      "Mean Squared Error = 1849724353.99\n",
      "R2 Square = 78.48%\n"
     ]
    }
   ],
   "source": [
    "model_evaluation(decision_tree)"
   ]
  },
  {
   "cell_type": "code",
   "execution_count": 52,
   "id": "e836035c-8464-4f14-8d35-78e56c59e59b",
   "metadata": {},
   "outputs": [
    {
     "name": "stdout",
     "output_type": "stream",
     "text": [
      "Mean Absolute Error = 11243.27\n",
      "Mean Squared Error = 1356098014.59\n",
      "R2 Square = 84.22%\n"
     ]
    }
   ],
   "source": [
    "model_evaluation(catboost)"
   ]
  },
  {
   "cell_type": "code",
   "execution_count": 42,
   "id": "dcd009f0",
   "metadata": {},
   "outputs": [
    {
     "name": "stdout",
     "output_type": "stream",
     "text": [
      "Mean Absolute Error = 10904.60\n",
      "Mean Squared Error = 1253975270.04\n",
      "R2 Square = 85.41%\n"
     ]
    },
    {
     "name": "stderr",
     "output_type": "stream",
     "text": [
      "/home/anant/.local/lib/python3.10/site-packages/xgboost/data.py:335: FutureWarning: is_sparse is deprecated and will be removed in a future version. Check `isinstance(dtype, pd.SparseDtype)` instead.\n",
      "  if is_sparse(dtype):\n",
      "/home/anant/.local/lib/python3.10/site-packages/xgboost/data.py:338: FutureWarning: is_categorical_dtype is deprecated and will be removed in a future version. Use isinstance(dtype, CategoricalDtype) instead\n",
      "  is_categorical_dtype(dtype) or is_pa_ext_categorical_dtype(dtype)\n",
      "/home/anant/.local/lib/python3.10/site-packages/xgboost/data.py:384: FutureWarning: is_categorical_dtype is deprecated and will be removed in a future version. Use isinstance(dtype, CategoricalDtype) instead\n",
      "  if is_categorical_dtype(dtype):\n",
      "/home/anant/.local/lib/python3.10/site-packages/xgboost/data.py:359: FutureWarning: is_categorical_dtype is deprecated and will be removed in a future version. Use isinstance(dtype, CategoricalDtype) instead\n",
      "  return is_int or is_bool or is_float or is_categorical_dtype(dtype)\n"
     ]
    }
   ],
   "source": [
    "model_evaluation(xgboost)"
   ]
  },
  {
   "cell_type": "markdown",
   "id": "b0b95cfa-9131-4e54-be98-a634366204f8",
   "metadata": {},
   "source": [
    "## Save the model "
   ]
  },
  {
   "cell_type": "code",
   "execution_count": 45,
   "id": "087f3d17-160a-413c-b5f5-966134bd569c",
   "metadata": {},
   "outputs": [
    {
     "name": "stderr",
     "output_type": "stream",
     "text": [
      "/home/anant/.local/lib/python3.10/site-packages/xgboost/data.py:335: FutureWarning: is_sparse is deprecated and will be removed in a future version. Check `isinstance(dtype, pd.SparseDtype)` instead.\n",
      "  if is_sparse(dtype):\n",
      "/home/anant/.local/lib/python3.10/site-packages/xgboost/data.py:338: FutureWarning: is_categorical_dtype is deprecated and will be removed in a future version. Use isinstance(dtype, CategoricalDtype) instead\n",
      "  is_categorical_dtype(dtype) or is_pa_ext_categorical_dtype(dtype)\n",
      "/home/anant/.local/lib/python3.10/site-packages/xgboost/data.py:384: FutureWarning: is_categorical_dtype is deprecated and will be removed in a future version. Use isinstance(dtype, CategoricalDtype) instead\n",
      "  if is_categorical_dtype(dtype):\n",
      "/home/anant/.local/lib/python3.10/site-packages/xgboost/data.py:359: FutureWarning: is_categorical_dtype is deprecated and will be removed in a future version. Use isinstance(dtype, CategoricalDtype) instead\n",
      "  return is_int or is_bool or is_float or is_categorical_dtype(dtype)\n",
      "/home/anant/.local/lib/python3.10/site-packages/xgboost/data.py:520: FutureWarning: is_sparse is deprecated and will be removed in a future version. Check `isinstance(dtype, pd.SparseDtype)` instead.\n",
      "  if is_sparse(data):\n"
     ]
    }
   ],
   "source": [
    "import pickle\n",
    "\n",
    "with open(\"xgboost.pkl\",\"wb\") as file:\n",
    "    pickle.dump(xgBoost_model(),file)"
   ]
  },
  {
   "cell_type": "code",
   "execution_count": null,
   "id": "ea119d54-8abf-4755-9d86-5732d91f8c05",
   "metadata": {},
   "outputs": [],
   "source": []
  }
 ],
 "metadata": {
  "kernelspec": {
   "display_name": "Python 3 (ipykernel)",
   "language": "python",
   "name": "python3"
  },
  "language_info": {
   "codemirror_mode": {
    "name": "ipython",
    "version": 3
   },
   "file_extension": ".py",
   "mimetype": "text/x-python",
   "name": "python",
   "nbconvert_exporter": "python",
   "pygments_lexer": "ipython3",
   "version": "3.10.12"
  }
 },
 "nbformat": 4,
 "nbformat_minor": 5
}
