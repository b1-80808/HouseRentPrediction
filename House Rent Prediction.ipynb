{
 "cells": [
  {
   "cell_type": "markdown",
   "id": "b2e55903",
   "metadata": {},
   "source": [
    "# House Rent Prediction"
   ]
  },
  {
   "cell_type": "markdown",
   "id": "d78483c9",
   "metadata": {},
   "source": [
    "## Objective :"
   ]
  },
  {
   "cell_type": "markdown",
   "id": "64f02484",
   "metadata": {},
   "source": [
    "### import required packages"
   ]
  },
  {
   "cell_type": "code",
   "execution_count": 2,
   "id": "395bdda6",
   "metadata": {},
   "outputs": [],
   "source": [
    "import numpy as np\n",
    "import pandas as pd\n",
    "import matplotlib.pyplot as plt\n",
    "import seaborn as sns"
   ]
  },
  {
   "cell_type": "markdown",
   "id": "697c870c",
   "metadata": {},
   "source": [
    "### Read the dataset"
   ]
  },
  {
   "cell_type": "code",
   "execution_count": 3,
   "id": "316f0406",
   "metadata": {},
   "outputs": [],
   "source": [
    "dataset = pd.read_csv(\"House_rent_unclean.csv\")"
   ]
  },
  {
   "cell_type": "markdown",
   "id": "b160a376",
   "metadata": {},
   "source": [
    "### Data Pre-Processing"
   ]
  },
  {
   "cell_type": "code",
   "execution_count": 4,
   "id": "e375d6c4",
   "metadata": {},
   "outputs": [],
   "source": [
    "# Delete the unnamed column which is unnecessary is there in database\n",
    "dataset.drop(\"Unnamed: 0\",inplace=True,axis=1)"
   ]
  },
  {
   "cell_type": "markdown",
   "id": "a01979ea",
   "metadata": {},
   "source": [
    "### Exploratory Data Analysis"
   ]
  },
  {
   "cell_type": "code",
   "execution_count": 5,
   "id": "31954cbf",
   "metadata": {},
   "outputs": [
    {
     "data": {
      "text/html": [
       "<div>\n",
       "<style scoped>\n",
       "    .dataframe tbody tr th:only-of-type {\n",
       "        vertical-align: middle;\n",
       "    }\n",
       "\n",
       "    .dataframe tbody tr th {\n",
       "        vertical-align: top;\n",
       "    }\n",
       "\n",
       "    .dataframe thead th {\n",
       "        text-align: right;\n",
       "    }\n",
       "</style>\n",
       "<table border=\"1\" class=\"dataframe\">\n",
       "  <thead>\n",
       "    <tr style=\"text-align: right;\">\n",
       "      <th></th>\n",
       "      <th>seller_type</th>\n",
       "      <th>bedroom</th>\n",
       "      <th>layout_type</th>\n",
       "      <th>property_type</th>\n",
       "      <th>locality</th>\n",
       "      <th>price</th>\n",
       "      <th>area</th>\n",
       "      <th>furnish_type</th>\n",
       "      <th>bathroom</th>\n",
       "      <th>city</th>\n",
       "    </tr>\n",
       "  </thead>\n",
       "  <tbody>\n",
       "    <tr>\n",
       "      <th>0</th>\n",
       "      <td>OWNER</td>\n",
       "      <td>2.0</td>\n",
       "      <td>BHK</td>\n",
       "      <td>Apartment</td>\n",
       "      <td>Bodakdev</td>\n",
       "      <td>20000.0</td>\n",
       "      <td>1450.0</td>\n",
       "      <td>Furnished</td>\n",
       "      <td>2.0</td>\n",
       "      <td>Ahmedabad</td>\n",
       "    </tr>\n",
       "    <tr>\n",
       "      <th>1</th>\n",
       "      <td>OWNER</td>\n",
       "      <td>1.0</td>\n",
       "      <td>RK</td>\n",
       "      <td>Studio Apartment</td>\n",
       "      <td>CG Road</td>\n",
       "      <td>7350.0</td>\n",
       "      <td>210.0</td>\n",
       "      <td>Semi-Furnished</td>\n",
       "      <td>1.0</td>\n",
       "      <td>Ahmedabad</td>\n",
       "    </tr>\n",
       "    <tr>\n",
       "      <th>2</th>\n",
       "      <td>OWNER</td>\n",
       "      <td>3.0</td>\n",
       "      <td>BHK</td>\n",
       "      <td>Apartment</td>\n",
       "      <td>Jodhpur</td>\n",
       "      <td>22000.0</td>\n",
       "      <td>1900.0</td>\n",
       "      <td>Unfurnished</td>\n",
       "      <td>3.0</td>\n",
       "      <td>Ahmedabad</td>\n",
       "    </tr>\n",
       "    <tr>\n",
       "      <th>3</th>\n",
       "      <td>OWNER</td>\n",
       "      <td>2.0</td>\n",
       "      <td>BHK</td>\n",
       "      <td>Independent House</td>\n",
       "      <td>Sanand</td>\n",
       "      <td>13000.0</td>\n",
       "      <td>1285.0</td>\n",
       "      <td>Semi-Furnished</td>\n",
       "      <td>2.0</td>\n",
       "      <td>Ahmedabad</td>\n",
       "    </tr>\n",
       "    <tr>\n",
       "      <th>4</th>\n",
       "      <td>OWNER</td>\n",
       "      <td>2.0</td>\n",
       "      <td>BHK</td>\n",
       "      <td>Independent House</td>\n",
       "      <td>Navrangpura</td>\n",
       "      <td>18000.0</td>\n",
       "      <td>1600.0</td>\n",
       "      <td>Furnished</td>\n",
       "      <td>2.0</td>\n",
       "      <td>Ahmedabad</td>\n",
       "    </tr>\n",
       "  </tbody>\n",
       "</table>\n",
       "</div>"
      ],
      "text/plain": [
       "  seller_type  bedroom layout_type      property_type     locality    price  \\\n",
       "0       OWNER      2.0         BHK          Apartment     Bodakdev  20000.0   \n",
       "1       OWNER      1.0          RK   Studio Apartment      CG Road   7350.0   \n",
       "2       OWNER      3.0         BHK          Apartment      Jodhpur  22000.0   \n",
       "3       OWNER      2.0         BHK  Independent House       Sanand  13000.0   \n",
       "4       OWNER      2.0         BHK  Independent House  Navrangpura  18000.0   \n",
       "\n",
       "     area    furnish_type  bathroom       city  \n",
       "0  1450.0       Furnished       2.0  Ahmedabad  \n",
       "1   210.0  Semi-Furnished       1.0  Ahmedabad  \n",
       "2  1900.0     Unfurnished       3.0  Ahmedabad  \n",
       "3  1285.0  Semi-Furnished       2.0  Ahmedabad  \n",
       "4  1600.0       Furnished       2.0  Ahmedabad  "
      ]
     },
     "execution_count": 5,
     "metadata": {},
     "output_type": "execute_result"
    }
   ],
   "source": [
    "# checking the data in dataset\n",
    "dataset.head()"
   ]
  },
  {
   "cell_type": "code",
   "execution_count": 6,
   "id": "e022468f",
   "metadata": {},
   "outputs": [
    {
     "data": {
      "text/plain": [
       "seller_type      192688\n",
       "bedroom          192809\n",
       "layout_type      192997\n",
       "property_type    192500\n",
       "locality         193011\n",
       "price            192264\n",
       "area             192012\n",
       "furnish_type     192933\n",
       "bathroom         192827\n",
       "city             192665\n",
       "dtype: int64"
      ]
     },
     "execution_count": 6,
     "metadata": {},
     "output_type": "execute_result"
    }
   ],
   "source": [
    "# Checking the count of the types in every dimension\n",
    "dataset.count()"
   ]
  },
  {
   "cell_type": "markdown",
   "id": "8e384686",
   "metadata": {},
   "source": [
    "#### Cheking for unique values"
   ]
  },
  {
   "cell_type": "code",
   "execution_count": 7,
   "id": "42e1895a",
   "metadata": {},
   "outputs": [
    {
     "data": {
      "text/plain": [
       "array(['OWNER', 'AGENT', nan, 'BUILDER'], dtype=object)"
      ]
     },
     "execution_count": 7,
     "metadata": {},
     "output_type": "execute_result"
    }
   ],
   "source": [
    "# cheking seller type categories\n",
    "pd.unique(dataset[\"seller_type\"])"
   ]
  },
  {
   "cell_type": "code",
   "execution_count": 8,
   "id": "a8a1f983",
   "metadata": {},
   "outputs": [
    {
     "data": {
      "text/plain": [
       "array([ 2.,  1.,  3.,  4.,  5., nan,  6., 10.,  7.,  8., 15.,  9., 12.,\n",
       "       14., 11.])"
      ]
     },
     "execution_count": 8,
     "metadata": {},
     "output_type": "execute_result"
    }
   ],
   "source": [
    "# Checking for bedroom categories\n",
    "pd.unique(dataset[\"bedroom\"])"
   ]
  },
  {
   "cell_type": "code",
   "execution_count": 9,
   "id": "cc70366d",
   "metadata": {},
   "outputs": [
    {
     "data": {
      "text/plain": [
       "array(['BHK', 'RK', nan], dtype=object)"
      ]
     },
     "execution_count": 9,
     "metadata": {},
     "output_type": "execute_result"
    }
   ],
   "source": [
    "# checking for layout_type\n",
    "pd.unique(dataset[\"layout_type\"])"
   ]
  },
  {
   "cell_type": "code",
   "execution_count": 10,
   "id": "6e113546",
   "metadata": {},
   "outputs": [
    {
     "data": {
      "text/plain": [
       "array(['Apartment', 'Studio Apartment', 'Independent House',\n",
       "       'Independent Floor', 'Villa', nan, 'Penthouse'], dtype=object)"
      ]
     },
     "execution_count": 10,
     "metadata": {},
     "output_type": "execute_result"
    }
   ],
   "source": [
    "# cheking for property type\n",
    "pd.unique(dataset[\"property_type\"])"
   ]
  },
  {
   "cell_type": "code",
   "execution_count": 11,
   "id": "1df0c93c",
   "metadata": {},
   "outputs": [
    {
     "data": {
      "text/plain": [
       "array(['Bodakdev', 'CG Road', 'Jodhpur', ..., 'Renuka Nagar',\n",
       "       'Gananjay Society', 'Aundh Gaon'], dtype=object)"
      ]
     },
     "execution_count": 11,
     "metadata": {},
     "output_type": "execute_result"
    }
   ],
   "source": [
    "# checking for locality type\n",
    "pd.unique(dataset[\"locality\"])"
   ]
  },
  {
   "cell_type": "code",
   "execution_count": 12,
   "id": "433ff4a4",
   "metadata": {},
   "outputs": [
    {
     "data": {
      "text/plain": [
       "array(['Furnished', 'Semi-Furnished', 'Unfurnished', nan], dtype=object)"
      ]
     },
     "execution_count": 12,
     "metadata": {},
     "output_type": "execute_result"
    }
   ],
   "source": [
    "# checking for the furnish type\n",
    "pd.unique(dataset[\"furnish_type\"])"
   ]
  },
  {
   "cell_type": "code",
   "execution_count": 13,
   "id": "07df7bb6",
   "metadata": {},
   "outputs": [
    {
     "data": {
      "text/plain": [
       "array([ 2.,  1.,  3.,  4.,  5., nan,  6., 12.,  7.,  8., 15.,  9., 18.,\n",
       "       19., 10., 16., 14.])"
      ]
     },
     "execution_count": 13,
     "metadata": {},
     "output_type": "execute_result"
    }
   ],
   "source": [
    "# checking for the bathroom\n",
    "pd.unique(dataset[\"bathroom\"])"
   ]
  },
  {
   "cell_type": "code",
   "execution_count": 14,
   "id": "1f4f76db",
   "metadata": {},
   "outputs": [
    {
     "data": {
      "text/plain": [
       "array(['Ahmedabad', nan, 'Bangalore', 'Chennai', 'Delhi', 'Hyderabad',\n",
       "       'Kolkata', 'Mumbai', 'Pune'], dtype=object)"
      ]
     },
     "execution_count": 14,
     "metadata": {},
     "output_type": "execute_result"
    }
   ],
   "source": [
    "# checking for the city\n",
    "pd.unique(dataset[\"city\"])"
   ]
  },
  {
   "cell_type": "markdown",
   "id": "8983ff50",
   "metadata": {},
   "source": [
    "#### Checking for Null Values"
   ]
  },
  {
   "cell_type": "code",
   "execution_count": 15,
   "id": "e6af5bfc",
   "metadata": {},
   "outputs": [
    {
     "data": {
      "text/plain": [
       "seller_type      323\n",
       "bedroom          202\n",
       "layout_type       14\n",
       "property_type    511\n",
       "locality           0\n",
       "price            747\n",
       "area             999\n",
       "furnish_type      78\n",
       "bathroom         184\n",
       "city             346\n",
       "dtype: int64"
      ]
     },
     "execution_count": 15,
     "metadata": {},
     "output_type": "execute_result"
    }
   ],
   "source": [
    "dataset.isna().sum()"
   ]
  },
  {
   "cell_type": "markdown",
   "id": "0ccb07a1",
   "metadata": {},
   "source": [
    "#### Handling NaN Values"
   ]
  },
  {
   "cell_type": "code",
   "execution_count": 16,
   "id": "79148cf9",
   "metadata": {},
   "outputs": [
    {
     "data": {
      "text/html": [
       "<div>\n",
       "<style scoped>\n",
       "    .dataframe tbody tr th:only-of-type {\n",
       "        vertical-align: middle;\n",
       "    }\n",
       "\n",
       "    .dataframe tbody tr th {\n",
       "        vertical-align: top;\n",
       "    }\n",
       "\n",
       "    .dataframe thead th {\n",
       "        text-align: right;\n",
       "    }\n",
       "</style>\n",
       "<table border=\"1\" class=\"dataframe\">\n",
       "  <thead>\n",
       "    <tr style=\"text-align: right;\">\n",
       "      <th></th>\n",
       "      <th>seller_type</th>\n",
       "      <th>bedroom</th>\n",
       "      <th>layout_type</th>\n",
       "      <th>property_type</th>\n",
       "      <th>locality</th>\n",
       "      <th>price</th>\n",
       "      <th>area</th>\n",
       "      <th>furnish_type</th>\n",
       "      <th>bathroom</th>\n",
       "      <th>city</th>\n",
       "    </tr>\n",
       "  </thead>\n",
       "  <tbody>\n",
       "    <tr>\n",
       "      <th>0</th>\n",
       "      <td>AGENT</td>\n",
       "      <td>2.0</td>\n",
       "      <td>BHK</td>\n",
       "      <td>Apartment</td>\n",
       "      <td>Thane West</td>\n",
       "      <td>15000.0</td>\n",
       "      <td>1200.0</td>\n",
       "      <td>Semi-Furnished</td>\n",
       "      <td>2.0</td>\n",
       "      <td>Mumbai</td>\n",
       "    </tr>\n",
       "  </tbody>\n",
       "</table>\n",
       "</div>"
      ],
      "text/plain": [
       "  seller_type  bedroom layout_type property_type    locality    price    area  \\\n",
       "0       AGENT      2.0         BHK     Apartment  Thane West  15000.0  1200.0   \n",
       "\n",
       "     furnish_type  bathroom    city  \n",
       "0  Semi-Furnished       2.0  Mumbai  "
      ]
     },
     "execution_count": 16,
     "metadata": {},
     "output_type": "execute_result"
    }
   ],
   "source": [
    "# Calculating with mode values\n",
    "dataset.mode()"
   ]
  },
  {
   "cell_type": "code",
   "execution_count": 17,
   "id": "5b75f88c",
   "metadata": {},
   "outputs": [
    {
     "data": {
      "text/plain": [
       "seller_type      0\n",
       "bedroom          0\n",
       "layout_type      0\n",
       "property_type    0\n",
       "locality         0\n",
       "price            0\n",
       "area             0\n",
       "furnish_type     0\n",
       "bathroom         0\n",
       "city             0\n",
       "dtype: int64"
      ]
     },
     "execution_count": 17,
     "metadata": {},
     "output_type": "execute_result"
    }
   ],
   "source": [
    "# Replace all the values with mode values of every dimension\n",
    "values = {\"seller_type\": \"AGENT\", \"bedroom\": 2.0, \"layout_type\": \"BHK\", \"property_type\":\"Apartment\",\"locality\":\"Thane West\",\"price\":1200.0,\"area\":1200.0,\"furnish_type\":\"Semi-Furnished\",\"bathroom\":2.0,\"city\":\"Mumbai\"}\n",
    "dataset.fillna(inplace=True,value=values)\n",
    "dataset.isna().sum()"
   ]
  },
  {
   "cell_type": "markdown",
   "id": "2a3fcfac-0745-4a83-bec7-aaf3baeaa5a0",
   "metadata": {},
   "source": [
    "#### Data Balance Checking"
   ]
  },
  {
   "cell_type": "code",
   "execution_count": 34,
   "id": "45b8b725-029a-4dea-946f-6fa52bb94c28",
   "metadata": {},
   "outputs": [
    {
     "data": {
      "text/plain": [
       "seller_type\n",
       "AGENT      153014\n",
       "OWNER       38651\n",
       "BUILDER      1346\n",
       "Name: count, dtype: int64"
      ]
     },
     "execution_count": 34,
     "metadata": {},
     "output_type": "execute_result"
    }
   ],
   "source": [
    "# data balance check for seller type\n",
    "dataset[\"seller_type\"].value_counts()"
   ]
  },
  {
   "cell_type": "code",
   "execution_count": 35,
   "id": "b0ffa1d3-c38e-430b-986a-bd85458b7f49",
   "metadata": {},
   "outputs": [
    {
     "data": {
      "text/plain": [
       "bedroom\n",
       "2.0     77221\n",
       "1.0     58166\n",
       "3.0     44293\n",
       "4.0     11562\n",
       "5.0      1389\n",
       "6.0       147\n",
       "10.0       76\n",
       "8.0        50\n",
       "7.0        48\n",
       "15.0       23\n",
       "9.0        23\n",
       "12.0        6\n",
       "14.0        4\n",
       "11.0        3\n",
       "Name: count, dtype: int64"
      ]
     },
     "execution_count": 35,
     "metadata": {},
     "output_type": "execute_result"
    }
   ],
   "source": [
    "# data balance check for bedroom\n",
    "dataset[\"bedroom\"].value_counts()"
   ]
  },
  {
   "cell_type": "code",
   "execution_count": 36,
   "id": "ca7b4b84-05b2-4aea-88f7-f7499fe6286b",
   "metadata": {},
   "outputs": [
    {
     "data": {
      "text/plain": [
       "layout_type\n",
       "BHK    183749\n",
       "RK       9262\n",
       "Name: count, dtype: int64"
      ]
     },
     "execution_count": 36,
     "metadata": {},
     "output_type": "execute_result"
    }
   ],
   "source": [
    "# data balance check for layout type\n",
    "dataset[\"layout_type\"].value_counts()"
   ]
  },
  {
   "cell_type": "code",
   "execution_count": 37,
   "id": "228b36aa-6ffd-4770-91e8-9c85dfc27328",
   "metadata": {},
   "outputs": [
    {
     "data": {
      "text/plain": [
       "property_type\n",
       "Apartment            140481\n",
       "Independent Floor     27221\n",
       "Independent House     12805\n",
       "Studio Apartment       9237\n",
       "Villa                  3111\n",
       "Penthouse               156\n",
       "Name: count, dtype: int64"
      ]
     },
     "execution_count": 37,
     "metadata": {},
     "output_type": "execute_result"
    }
   ],
   "source": [
    "# data balace check for property type\n",
    "dataset[\"property_type\"].value_counts()"
   ]
  },
  {
   "cell_type": "code",
   "execution_count": 38,
   "id": "606b5c2d-5365-4b38-b0c0-4242fffa86f1",
   "metadata": {},
   "outputs": [
    {
     "data": {
      "text/plain": [
       "locality\n",
       "Thane West                 4478\n",
       "Chembur                    3549\n",
       "Andheri East               3415\n",
       "Bopal                      2933\n",
       "Kharghar                   2614\n",
       "                           ... \n",
       "Kuthambakkam                  1\n",
       "Agaramthen                    1\n",
       "Daighar Gaon                  1\n",
       "Mettukuppam Kanchipuram       1\n",
       "Aundh Gaon                    1\n",
       "Name: count, Length: 4146, dtype: int64"
      ]
     },
     "execution_count": 38,
     "metadata": {},
     "output_type": "execute_result"
    }
   ],
   "source": [
    "# data balance check for locality\n",
    "dataset[\"locality\"].value_counts()"
   ]
  },
  {
   "cell_type": "code",
   "execution_count": 39,
   "id": "c90db101-0904-4486-bca8-f7b64dca37c6",
   "metadata": {},
   "outputs": [
    {
     "data": {
      "text/plain": [
       "area\n",
       "1200.0    9409\n",
       "600.0     7378\n",
       "1000.0    7231\n",
       "650.0     5773\n",
       "900.0     5442\n",
       "          ... \n",
       "9004.0       1\n",
       "6825.0       1\n",
       "2523.0       1\n",
       "2312.0       1\n",
       "258.0        1\n",
       "Name: count, Length: 2761, dtype: int64"
      ]
     },
     "execution_count": 39,
     "metadata": {},
     "output_type": "execute_result"
    }
   ],
   "source": [
    "# data balance check for area\n",
    "dataset[\"area\"].value_counts()"
   ]
  },
  {
   "cell_type": "code",
   "execution_count": 40,
   "id": "1dc8b5ed-d17f-4549-956e-2f5e2a94ac7a",
   "metadata": {},
   "outputs": [
    {
     "data": {
      "text/plain": [
       "furnish_type\n",
       "Semi-Furnished    95769\n",
       "Unfurnished       58668\n",
       "Furnished         38574\n",
       "Name: count, dtype: int64"
      ]
     },
     "execution_count": 40,
     "metadata": {},
     "output_type": "execute_result"
    }
   ],
   "source": [
    "# data balance check for furnish type\n",
    "dataset[\"furnish_type\"].value_counts()"
   ]
  },
  {
   "cell_type": "code",
   "execution_count": 41,
   "id": "b1991322-a876-4b6b-9f5b-fc13fc52a0dd",
   "metadata": {},
   "outputs": [
    {
     "data": {
      "text/plain": [
       "bathroom\n",
       "2.0     90155\n",
       "1.0     54218\n",
       "3.0     35418\n",
       "4.0     10664\n",
       "5.0      1926\n",
       "6.0       381\n",
       "7.0        80\n",
       "9.0        55\n",
       "8.0        52\n",
       "10.0       34\n",
       "15.0        8\n",
       "16.0        6\n",
       "14.0        6\n",
       "12.0        5\n",
       "19.0        2\n",
       "18.0        1\n",
       "Name: count, dtype: int64"
      ]
     },
     "execution_count": 41,
     "metadata": {},
     "output_type": "execute_result"
    }
   ],
   "source": [
    "# data balance check for bathroom\n",
    "dataset[\"bathroom\"].value_counts()"
   ]
  },
  {
   "cell_type": "code",
   "execution_count": 42,
   "id": "71659125-4ecb-474d-878c-4d7fb99c7512",
   "metadata": {},
   "outputs": [
    {
     "data": {
      "text/plain": [
       "city\n",
       "Mumbai       67654\n",
       "Delhi        32542\n",
       "Bangalore    23028\n",
       "Pune         22558\n",
       "Ahmedabad    18413\n",
       "Hyderabad    10527\n",
       "Kolkata       9645\n",
       "Chennai       8644\n",
       "Name: count, dtype: int64"
      ]
     },
     "execution_count": 42,
     "metadata": {},
     "output_type": "execute_result"
    }
   ],
   "source": [
    "# data balancing check for city\n",
    "dataset[\"city\"].value_counts()"
   ]
  },
  {
   "cell_type": "markdown",
   "id": "d4f6dc3e",
   "metadata": {},
   "source": [
    "#### Data Types and Dimension Checking"
   ]
  },
  {
   "cell_type": "code",
   "execution_count": 18,
   "id": "81187f81",
   "metadata": {},
   "outputs": [
    {
     "name": "stdout",
     "output_type": "stream",
     "text": [
      "<class 'pandas.core.frame.DataFrame'>\n",
      "RangeIndex: 193011 entries, 0 to 193010\n",
      "Data columns (total 10 columns):\n",
      " #   Column         Non-Null Count   Dtype  \n",
      "---  ------         --------------   -----  \n",
      " 0   seller_type    193011 non-null  object \n",
      " 1   bedroom        193011 non-null  float64\n",
      " 2   layout_type    193011 non-null  object \n",
      " 3   property_type  193011 non-null  object \n",
      " 4   locality       193011 non-null  object \n",
      " 5   price          193011 non-null  float64\n",
      " 6   area           193011 non-null  float64\n",
      " 7   furnish_type   193011 non-null  object \n",
      " 8   bathroom       193011 non-null  float64\n",
      " 9   city           193011 non-null  object \n",
      "dtypes: float64(4), object(6)\n",
      "memory usage: 14.7+ MB\n"
     ]
    }
   ],
   "source": [
    "dataset.info()"
   ]
  },
  {
   "cell_type": "markdown",
   "id": "5b20ffbb-b891-4b90-bb8c-fa736f7688e8",
   "metadata": {},
   "source": [
    "## Encoding"
   ]
  },
  {
   "cell_type": "code",
   "execution_count": 63,
   "id": "7164b014-43ae-42e1-a7a8-651323a55123",
   "metadata": {},
   "outputs": [],
   "source": [
    "# Lable Encoding for all categorical columns\n",
    "# importing LabelEncoder\n",
    "from sklearn.preprocessing import LabelEncoder\n",
    "\n",
    "#making encoder object\n",
    "encoder = LabelEncoder()\n",
    "\n",
    "#Start Encoding\n",
    "dataset[\"seller_type\"] = encoder.fit_transform(dataset[\"seller_type\"])\n",
    "dataset[\"bedroom\"]     = encoder.fit_transform(dataset[\"bedroom\"])\n",
    "dataset[\"layout_type\"] = encoder.fit_transform(dataset[\"layout_type\"])\n",
    "dataset[\"property_type\"] = encoder.fit_transform(dataset[\"property_type\"])\n",
    "dataset[\"locality\"] = encoder.fit_transform(dataset[\"locality\"])\n",
    "dataset[\"furnish_type\"] = encoder.fit_transform(dataset[\"furnish_type\"])\n",
    "dataset[\"bathroom\"] = encoder.fit_transform(dataset[\"bathroom\"])\n",
    "dataset[\"city\"] = encoder.fit_transform(dataset[\"city\"])"
   ]
  },
  {
   "cell_type": "code",
   "execution_count": 64,
   "id": "5ac85566-1a33-4acf-976b-77e21341b3d1",
   "metadata": {},
   "outputs": [
    {
     "name": "stdout",
     "output_type": "stream",
     "text": [
      "<class 'pandas.core.frame.DataFrame'>\n",
      "RangeIndex: 193011 entries, 0 to 193010\n",
      "Data columns (total 10 columns):\n",
      " #   Column         Non-Null Count   Dtype  \n",
      "---  ------         --------------   -----  \n",
      " 0   seller_type    193011 non-null  int64  \n",
      " 1   bedroom        193011 non-null  int64  \n",
      " 2   layout_type    193011 non-null  int64  \n",
      " 3   property_type  193011 non-null  int64  \n",
      " 4   locality       193011 non-null  int64  \n",
      " 5   price          193011 non-null  float64\n",
      " 6   area           193011 non-null  float64\n",
      " 7   furnish_type   193011 non-null  int64  \n",
      " 8   bathroom       193011 non-null  int64  \n",
      " 9   city           193011 non-null  int64  \n",
      "dtypes: float64(2), int64(8)\n",
      "memory usage: 14.7 MB\n"
     ]
    }
   ],
   "source": [
    "# all the values in int & float\n",
    "dataset.info()"
   ]
  },
  {
   "cell_type": "markdown",
   "id": "6c727db9-2976-4f33-932c-941f828a9cde",
   "metadata": {},
   "source": [
    "### Data Processing"
   ]
  },
  {
   "cell_type": "code",
   "execution_count": 71,
   "id": "e4396279-43b4-402c-8532-6753498e8e82",
   "metadata": {},
   "outputs": [],
   "source": [
    "# price is dependant columns\n",
    "\n",
    "X = dataset.drop(\"price\",axis = 1)\n",
    "Y = dataset[\"price\"]\n"
   ]
  },
  {
   "cell_type": "code",
   "execution_count": 72,
   "id": "93dedd24-a499-48c8-a3b3-8d4a868d8fe0",
   "metadata": {},
   "outputs": [],
   "source": [
    "# Split the data into Train and Test\n",
    "from sklearn.model_selection import train_test_split\n",
    "X_train,X_test,Y_train,Y_test = train_test_split(X,Y,train_size=0.7,random_state=12345)"
   ]
  },
  {
   "cell_type": "markdown",
   "id": "fa9b79a0-ddbb-4b8f-900a-98769e630008",
   "metadata": {},
   "source": [
    "## Model Building"
   ]
  },
  {
   "cell_type": "code",
   "execution_count": 91,
   "id": "5137a7b6-d602-4767-80f9-b5f4cc714004",
   "metadata": {},
   "outputs": [],
   "source": [
    "def linear_regression_model():\n",
    "    from sklearn.linear_model import LinearRegression\n",
    "    model = LinearRegression()\n",
    "    model.fit(X_train,Y_train)\n",
    "    return model"
   ]
  },
  {
   "cell_type": "code",
   "execution_count": 92,
   "id": "abe0f95f-68cd-49e1-8756-9c1d7e23f090",
   "metadata": {},
   "outputs": [],
   "source": [
    "def decision_tree_model():\n",
    "    from sklearn.ensemble import decision_tree\n",
    "    model = decision_tree()\n",
    "    model.fit(X_train,Y_train)\n",
    "    return model"
   ]
  },
  {
   "cell_type": "code",
   "execution_count": 99,
   "id": "9ab224fa-8eb7-4d43-a68f-d7bf0225d764",
   "metadata": {},
   "outputs": [],
   "source": [
    "def svm_model():\n",
    "    from sklearn.svm import SVC\n",
    "    model = SVC()\n",
    "    model.fit(X_train,Y_train)\n",
    "    return model"
   ]
  },
  {
   "cell_type": "code",
   "execution_count": 100,
   "id": "0f32fcf0-d43f-459a-bc2d-e3881ef3af5b",
   "metadata": {},
   "outputs": [],
   "source": [
    "def catBoost_model():\n",
    "    from catboost import CatBoostRegressor\n",
    "    model = CatBoostRegressor()\n",
    "    model.fit(X_train,Y_train)\n",
    "    return model"
   ]
  },
  {
   "cell_type": "code",
   "execution_count": 101,
   "id": "0502e48d-1a3a-4d6d-999e-c32ef85491ec",
   "metadata": {},
   "outputs": [],
   "source": [
    "def xgBoost_model():\n",
    "    from xgboost import XGBRegressor\n",
    "    model = XGBRegressor()\n",
    "    model.fit(X_train,Y_train)\n",
    "    return model"
   ]
  },
  {
   "cell_type": "code",
   "execution_count": 102,
   "id": "a058917c-1da1-4350-ae29-5735447fa0bc",
   "metadata": {},
   "outputs": [
    {
     "ename": "ValueError",
     "evalue": "Unknown label type: continuous. Maybe you are trying to fit a classifier, which expects discrete classes on a regression target with continuous values.",
     "output_type": "error",
     "traceback": [
      "\u001b[1;31m---------------------------------------------------------------------------\u001b[0m",
      "\u001b[1;31mValueError\u001b[0m                                Traceback (most recent call last)",
      "Cell \u001b[1;32mIn[102], line 3\u001b[0m\n\u001b[0;32m      1\u001b[0m \u001b[38;5;66;03m# reference variable\u001b[39;00m\n\u001b[0;32m      2\u001b[0m linear_regression \u001b[38;5;241m=\u001b[39m linear_regression_model()\n\u001b[1;32m----> 3\u001b[0m svm \u001b[38;5;241m=\u001b[39m \u001b[43msvm_model\u001b[49m\u001b[43m(\u001b[49m\u001b[43m)\u001b[49m\n\u001b[0;32m      4\u001b[0m decision_tree \u001b[38;5;241m=\u001b[39m decision_tree_model()\n\u001b[0;32m      5\u001b[0m catboost \u001b[38;5;241m=\u001b[39m catBoost_model()\n",
      "Cell \u001b[1;32mIn[99], line 4\u001b[0m, in \u001b[0;36msvm_model\u001b[1;34m()\u001b[0m\n\u001b[0;32m      2\u001b[0m \u001b[38;5;28;01mfrom\u001b[39;00m \u001b[38;5;21;01msklearn\u001b[39;00m\u001b[38;5;21;01m.\u001b[39;00m\u001b[38;5;21;01msvm\u001b[39;00m \u001b[38;5;28;01mimport\u001b[39;00m SVC\n\u001b[0;32m      3\u001b[0m model \u001b[38;5;241m=\u001b[39m SVC()\n\u001b[1;32m----> 4\u001b[0m \u001b[43mmodel\u001b[49m\u001b[38;5;241;43m.\u001b[39;49m\u001b[43mfit\u001b[49m\u001b[43m(\u001b[49m\u001b[43mX_train\u001b[49m\u001b[43m,\u001b[49m\u001b[43mY_train\u001b[49m\u001b[43m)\u001b[49m\n\u001b[0;32m      5\u001b[0m \u001b[38;5;28;01mreturn\u001b[39;00m model\n",
      "File \u001b[1;32m~\\AppData\\Local\\Programs\\Python\\Python311\\Lib\\site-packages\\sklearn\\base.py:1152\u001b[0m, in \u001b[0;36m_fit_context.<locals>.decorator.<locals>.wrapper\u001b[1;34m(estimator, *args, **kwargs)\u001b[0m\n\u001b[0;32m   1145\u001b[0m     estimator\u001b[38;5;241m.\u001b[39m_validate_params()\n\u001b[0;32m   1147\u001b[0m \u001b[38;5;28;01mwith\u001b[39;00m config_context(\n\u001b[0;32m   1148\u001b[0m     skip_parameter_validation\u001b[38;5;241m=\u001b[39m(\n\u001b[0;32m   1149\u001b[0m         prefer_skip_nested_validation \u001b[38;5;129;01mor\u001b[39;00m global_skip_validation\n\u001b[0;32m   1150\u001b[0m     )\n\u001b[0;32m   1151\u001b[0m ):\n\u001b[1;32m-> 1152\u001b[0m     \u001b[38;5;28;01mreturn\u001b[39;00m \u001b[43mfit_method\u001b[49m\u001b[43m(\u001b[49m\u001b[43mestimator\u001b[49m\u001b[43m,\u001b[49m\u001b[43m \u001b[49m\u001b[38;5;241;43m*\u001b[39;49m\u001b[43margs\u001b[49m\u001b[43m,\u001b[49m\u001b[43m \u001b[49m\u001b[38;5;241;43m*\u001b[39;49m\u001b[38;5;241;43m*\u001b[39;49m\u001b[43mkwargs\u001b[49m\u001b[43m)\u001b[49m\n",
      "File \u001b[1;32m~\\AppData\\Local\\Programs\\Python\\Python311\\Lib\\site-packages\\sklearn\\svm\\_base.py:199\u001b[0m, in \u001b[0;36mBaseLibSVM.fit\u001b[1;34m(self, X, y, sample_weight)\u001b[0m\n\u001b[0;32m    189\u001b[0m \u001b[38;5;28;01melse\u001b[39;00m:\n\u001b[0;32m    190\u001b[0m     X, y \u001b[38;5;241m=\u001b[39m \u001b[38;5;28mself\u001b[39m\u001b[38;5;241m.\u001b[39m_validate_data(\n\u001b[0;32m    191\u001b[0m         X,\n\u001b[0;32m    192\u001b[0m         y,\n\u001b[1;32m   (...)\u001b[0m\n\u001b[0;32m    196\u001b[0m         accept_large_sparse\u001b[38;5;241m=\u001b[39m\u001b[38;5;28;01mFalse\u001b[39;00m,\n\u001b[0;32m    197\u001b[0m     )\n\u001b[1;32m--> 199\u001b[0m y \u001b[38;5;241m=\u001b[39m \u001b[38;5;28;43mself\u001b[39;49m\u001b[38;5;241;43m.\u001b[39;49m\u001b[43m_validate_targets\u001b[49m\u001b[43m(\u001b[49m\u001b[43my\u001b[49m\u001b[43m)\u001b[49m\n\u001b[0;32m    201\u001b[0m sample_weight \u001b[38;5;241m=\u001b[39m np\u001b[38;5;241m.\u001b[39masarray(\n\u001b[0;32m    202\u001b[0m     [] \u001b[38;5;28;01mif\u001b[39;00m sample_weight \u001b[38;5;129;01mis\u001b[39;00m \u001b[38;5;28;01mNone\u001b[39;00m \u001b[38;5;28;01melse\u001b[39;00m sample_weight, dtype\u001b[38;5;241m=\u001b[39mnp\u001b[38;5;241m.\u001b[39mfloat64\n\u001b[0;32m    203\u001b[0m )\n\u001b[0;32m    204\u001b[0m solver_type \u001b[38;5;241m=\u001b[39m LIBSVM_IMPL\u001b[38;5;241m.\u001b[39mindex(\u001b[38;5;28mself\u001b[39m\u001b[38;5;241m.\u001b[39m_impl)\n",
      "File \u001b[1;32m~\\AppData\\Local\\Programs\\Python\\Python311\\Lib\\site-packages\\sklearn\\svm\\_base.py:743\u001b[0m, in \u001b[0;36mBaseSVC._validate_targets\u001b[1;34m(self, y)\u001b[0m\n\u001b[0;32m    741\u001b[0m \u001b[38;5;28;01mdef\u001b[39;00m \u001b[38;5;21m_validate_targets\u001b[39m(\u001b[38;5;28mself\u001b[39m, y):\n\u001b[0;32m    742\u001b[0m     y_ \u001b[38;5;241m=\u001b[39m column_or_1d(y, warn\u001b[38;5;241m=\u001b[39m\u001b[38;5;28;01mTrue\u001b[39;00m)\n\u001b[1;32m--> 743\u001b[0m     \u001b[43mcheck_classification_targets\u001b[49m\u001b[43m(\u001b[49m\u001b[43my\u001b[49m\u001b[43m)\u001b[49m\n\u001b[0;32m    744\u001b[0m     \u001b[38;5;28mcls\u001b[39m, y \u001b[38;5;241m=\u001b[39m np\u001b[38;5;241m.\u001b[39munique(y_, return_inverse\u001b[38;5;241m=\u001b[39m\u001b[38;5;28;01mTrue\u001b[39;00m)\n\u001b[0;32m    745\u001b[0m     \u001b[38;5;28mself\u001b[39m\u001b[38;5;241m.\u001b[39mclass_weight_ \u001b[38;5;241m=\u001b[39m compute_class_weight(\u001b[38;5;28mself\u001b[39m\u001b[38;5;241m.\u001b[39mclass_weight, classes\u001b[38;5;241m=\u001b[39m\u001b[38;5;28mcls\u001b[39m, y\u001b[38;5;241m=\u001b[39my_)\n",
      "File \u001b[1;32m~\\AppData\\Local\\Programs\\Python\\Python311\\Lib\\site-packages\\sklearn\\utils\\multiclass.py:216\u001b[0m, in \u001b[0;36mcheck_classification_targets\u001b[1;34m(y)\u001b[0m\n\u001b[0;32m    208\u001b[0m y_type \u001b[38;5;241m=\u001b[39m type_of_target(y, input_name\u001b[38;5;241m=\u001b[39m\u001b[38;5;124m\"\u001b[39m\u001b[38;5;124my\u001b[39m\u001b[38;5;124m\"\u001b[39m)\n\u001b[0;32m    209\u001b[0m \u001b[38;5;28;01mif\u001b[39;00m y_type \u001b[38;5;129;01mnot\u001b[39;00m \u001b[38;5;129;01min\u001b[39;00m [\n\u001b[0;32m    210\u001b[0m     \u001b[38;5;124m\"\u001b[39m\u001b[38;5;124mbinary\u001b[39m\u001b[38;5;124m\"\u001b[39m,\n\u001b[0;32m    211\u001b[0m     \u001b[38;5;124m\"\u001b[39m\u001b[38;5;124mmulticlass\u001b[39m\u001b[38;5;124m\"\u001b[39m,\n\u001b[1;32m   (...)\u001b[0m\n\u001b[0;32m    214\u001b[0m     \u001b[38;5;124m\"\u001b[39m\u001b[38;5;124mmultilabel-sequences\u001b[39m\u001b[38;5;124m\"\u001b[39m,\n\u001b[0;32m    215\u001b[0m ]:\n\u001b[1;32m--> 216\u001b[0m     \u001b[38;5;28;01mraise\u001b[39;00m \u001b[38;5;167;01mValueError\u001b[39;00m(\n\u001b[0;32m    217\u001b[0m         \u001b[38;5;124mf\u001b[39m\u001b[38;5;124m\"\u001b[39m\u001b[38;5;124mUnknown label type: \u001b[39m\u001b[38;5;132;01m{\u001b[39;00my_type\u001b[38;5;132;01m}\u001b[39;00m\u001b[38;5;124m. Maybe you are trying to fit a \u001b[39m\u001b[38;5;124m\"\u001b[39m\n\u001b[0;32m    218\u001b[0m         \u001b[38;5;124m\"\u001b[39m\u001b[38;5;124mclassifier, which expects discrete classes on a \u001b[39m\u001b[38;5;124m\"\u001b[39m\n\u001b[0;32m    219\u001b[0m         \u001b[38;5;124m\"\u001b[39m\u001b[38;5;124mregression target with continuous values.\u001b[39m\u001b[38;5;124m\"\u001b[39m\n\u001b[0;32m    220\u001b[0m     )\n",
      "\u001b[1;31mValueError\u001b[0m: Unknown label type: continuous. Maybe you are trying to fit a classifier, which expects discrete classes on a regression target with continuous values."
     ]
    }
   ],
   "source": [
    "# reference variable\n",
    "linear_regression = linear_regression_model()\n",
    "svm = svm_model()\n",
    "decision_tree = decision_tree_model()\n",
    "catboost = catBoost_model()\n",
    "xgboost = xgBoost_model()"
   ]
  },
  {
   "cell_type": "code",
   "execution_count": 103,
   "id": "a495db11-d528-43e0-ba29-11205042315b",
   "metadata": {},
   "outputs": [
    {
     "ename": "SyntaxError",
     "evalue": "incomplete input (2523753227.py, line 1)",
     "output_type": "error",
     "traceback": [
      "\u001b[1;36m  Cell \u001b[1;32mIn[103], line 1\u001b[1;36m\u001b[0m\n\u001b[1;33m    def model_evaluation():\u001b[0m\n\u001b[1;37m                           ^\u001b[0m\n\u001b[1;31mSyntaxError\u001b[0m\u001b[1;31m:\u001b[0m incomplete input\n"
     ]
    }
   ],
   "source": [
    "def model_evaluation():\n",
    "    from sklearn.metrics import "
   ]
  },
  {
   "cell_type": "code",
   "execution_count": null,
   "id": "d8c2409e-3391-46ab-bfde-c7b655a57a68",
   "metadata": {},
   "outputs": [],
   "source": []
  }
 ],
 "metadata": {
  "kernelspec": {
   "display_name": "Python 3 (ipykernel)",
   "language": "python",
   "name": "python3"
  },
  "language_info": {
   "codemirror_mode": {
    "name": "ipython",
    "version": 3
   },
   "file_extension": ".py",
   "mimetype": "text/x-python",
   "name": "python",
   "nbconvert_exporter": "python",
   "pygments_lexer": "ipython3",
   "version": "3.11.6"
  }
 },
 "nbformat": 4,
 "nbformat_minor": 5
}
